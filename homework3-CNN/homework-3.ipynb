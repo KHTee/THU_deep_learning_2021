{
  "nbformat": 4,
  "nbformat_minor": 0,
  "metadata": {
    "colab": {
      "name": "homework-3.ipynb",
      "provenance": [],
      "collapsed_sections": [],
      "toc_visible": true
    },
    "kernelspec": {
      "display_name": "Python 3",
      "language": "python",
      "name": "python3"
    },
    "language_info": {
      "codemirror_mode": {
        "name": "ipython",
        "version": 3
      },
      "file_extension": ".py",
      "mimetype": "text/x-python",
      "name": "python",
      "nbconvert_exporter": "python",
      "pygments_lexer": "ipython3",
      "version": "3.8.0"
    }
  },
  "cells": [
    {
      "cell_type": "code",
      "metadata": {
        "id": "Fzwm0TqxVX6t"
      },
      "source": [
        "# !unzip /content/homework-3.zip"
      ],
      "execution_count": 1,
      "outputs": []
    },
    {
      "cell_type": "markdown",
      "metadata": {
        "id": "-q1PFjwt6bL5"
      },
      "source": [
        "## Homework-3: MNIST Classification with ConvNet\n",
        "\n",
        "### **Deadline: 2021.04.06 23:59:00 **\n",
        "\n",
        "### In this homework, you need to\n",
        "- #### implement the forward and backward functions for ConvLayer (`layers/conv_layer.py`)\n",
        "- #### implement the forward and backward functions for PoolingLayer (`layers/pooling_layer.py`)\n",
        "- #### implement the forward and backward functions for DropoutLayer (`layers/dropout_layer.py`)"
      ]
    },
    {
      "cell_type": "code",
      "metadata": {
        "id": "pDlM0oig6bMC"
      },
      "source": [
        "import numpy as np\n",
        "import matplotlib.pyplot as plt\n",
        "%matplotlib inline\n",
        "import tensorflow.compat.v1 as tf\n",
        "tf.disable_eager_execution()\n",
        "\n",
        "from network import Network\n",
        "from solver import train, test\n",
        "from plot import plot_loss_and_acc"
      ],
      "execution_count": 2,
      "outputs": []
    },
    {
      "cell_type": "markdown",
      "metadata": {
        "id": "wyqDmosl6bMD"
      },
      "source": [
        "## Load MNIST Dataset\n",
        "We use tensorflow tools to load dataset for convenience."
      ]
    },
    {
      "cell_type": "code",
      "metadata": {
        "id": "CmUDkzNf6bME"
      },
      "source": [
        "(x_train, y_train), (x_test, y_test) = tf.keras.datasets.mnist.load_data()"
      ],
      "execution_count": 3,
      "outputs": []
    },
    {
      "cell_type": "code",
      "metadata": {
        "id": "HT7egMHA6bME"
      },
      "source": [
        "def decode_image(image):\n",
        "    # Normalize from [0, 255.] to [0., 1.0], and then subtract by the mean value\n",
        "    image = tf.cast(image, tf.float32)\n",
        "    image = tf.reshape(image, [1, 28, 28])\n",
        "    image = image / 255.0\n",
        "    image = image - tf.reduce_mean(image)\n",
        "    return image\n",
        "\n",
        "def decode_label(label):\n",
        "    # Encode label with one-hot encoding\n",
        "    return tf.one_hot(label, depth=10)"
      ],
      "execution_count": 4,
      "outputs": []
    },
    {
      "cell_type": "code",
      "metadata": {
        "id": "4KgrDEBb6bMF"
      },
      "source": [
        "# Data Preprocessing\n",
        "x_train = tf.data.Dataset.from_tensor_slices(x_train).map(decode_image)\n",
        "y_train = tf.data.Dataset.from_tensor_slices(y_train).map(decode_label)\n",
        "data_train = tf.data.Dataset.zip((x_train, y_train))\n",
        "x_test = tf.data.Dataset.from_tensor_slices(x_test).map(decode_image)\n",
        "y_test = tf.data.Dataset.from_tensor_slices(y_test).map(decode_label)\n",
        "data_test = tf.data.Dataset.zip((x_test, y_test))"
      ],
      "execution_count": 5,
      "outputs": []
    },
    {
      "cell_type": "markdown",
      "metadata": {
        "id": "_DBR-W-G6bMF"
      },
      "source": [
        "## Set Hyperparameters\n",
        "You can modify hyperparameters by yourself."
      ]
    },
    {
      "cell_type": "code",
      "metadata": {
        "id": "lHqD2WY56bMG"
      },
      "source": [
        "batch_size = 100\n",
        "max_epoch = 10\n",
        "init_std = 0.01\n",
        "\n",
        "learning_rate = 0.01\n",
        "weight_decay = 0.01\n",
        "\n",
        "disp_freq = 50"
      ],
      "execution_count": 6,
      "outputs": []
    },
    {
      "cell_type": "markdown",
      "metadata": {
        "id": "bKpzmCMl6bMG"
      },
      "source": [
        "## Criterion and Optimizer"
      ]
    },
    {
      "cell_type": "code",
      "metadata": {
        "id": "VllECNYl6bMG"
      },
      "source": [
        "from criterion import SoftmaxCrossEntropyLossLayer\n",
        "from optimizer import SGD\n",
        "\n",
        "criterion = SoftmaxCrossEntropyLossLayer()\n",
        "sgd = SGD(learning_rate, weight_decay)"
      ],
      "execution_count": 7,
      "outputs": []
    },
    {
      "cell_type": "markdown",
      "metadata": {
        "id": "ETvB9h5t6bMH"
      },
      "source": [
        "## ConvNet"
      ]
    },
    {
      "cell_type": "code",
      "metadata": {
        "id": "TwTJiVF16bMH"
      },
      "source": [
        "from layers import FCLayer, ReLULayer, ConvLayer, MaxPoolingLayer, ReshapeLayer\n",
        "\n",
        "convNet = Network()\n",
        "convNet.add(ConvLayer(1, 8, 3, 1))\n",
        "convNet.add(ReLULayer())\n",
        "convNet.add(MaxPoolingLayer(2, 0))\n",
        "convNet.add(ConvLayer(8, 16, 3, 1))\n",
        "convNet.add(ReLULayer())\n",
        "convNet.add(MaxPoolingLayer(2, 0))\n",
        "convNet.add(ReshapeLayer((batch_size, 16, 7, 7), (batch_size, 784)))\n",
        "convNet.add(FCLayer(784, 128))\n",
        "convNet.add(ReLULayer())\n",
        "convNet.add(FCLayer(128, 10))"
      ],
      "execution_count": 8,
      "outputs": []
    },
    {
      "cell_type": "code",
      "metadata": {
        "colab": {
          "base_uri": "https://localhost:8080/"
        },
        "id": "XI4ps5v96bMH",
        "outputId": "3bc3c011-3bd2-4fbb-f29e-e23b0466f3d9"
      },
      "source": [
        "convNet.is_training = True\n",
        "convNet, conv_loss, conv_acc = train(convNet, criterion, sgd, data_train, max_epoch, batch_size, disp_freq)"
      ],
      "execution_count": 9,
      "outputs": [
        {
          "output_type": "stream",
          "text": [
            "WARNING:tensorflow:From /content/solver.py:15: DatasetV1.make_one_shot_iterator (from tensorflow.python.data.ops.dataset_ops) is deprecated and will be removed in a future version.\n",
            "Instructions for updating:\n",
            "This is a deprecated API that should only be used in TF 1 graph mode and legacy TF 2 graph mode available through `tf.compat.v1`. In all other situations -- namely, eager mode and inside `tf.function` -- you can consume dataset elements using `for elem in dataset: ...` or by explicitly creating iterator via `iterator = iter(dataset)` and fetching its elements via `values = next(iterator)`. Furthermore, this API is not available in TF 2. During the transition from TF 1 to TF 2 you can use `tf.compat.v1.data.make_one_shot_iterator(dataset)` to create a TF 1 graph mode style iterator for a dataset created through TF 2 APIs. Note that this should be a transient state of your code base as there are in general no guarantees about the interoperability of TF 1 and TF 2 code.\n",
            "Epoch [0][10]\t Batch [0][550]\t Training Loss 5.1674\t Accuracy 0.0400\n",
            "Epoch [0][10]\t Batch [50][550]\t Training Loss 1.5159\t Accuracy 0.5343\n",
            "Epoch [0][10]\t Batch [100][550]\t Training Loss 1.0879\t Accuracy 0.6673\n",
            "Epoch [0][10]\t Batch [150][550]\t Training Loss 0.8958\t Accuracy 0.7276\n",
            "Epoch [0][10]\t Batch [200][550]\t Training Loss 0.7742\t Accuracy 0.7657\n",
            "Epoch [0][10]\t Batch [250][550]\t Training Loss 0.6880\t Accuracy 0.7915\n",
            "Epoch [0][10]\t Batch [300][550]\t Training Loss 0.6290\t Accuracy 0.8094\n",
            "Epoch [0][10]\t Batch [350][550]\t Training Loss 0.5851\t Accuracy 0.8228\n",
            "Epoch [0][10]\t Batch [400][550]\t Training Loss 0.5460\t Accuracy 0.8352\n",
            "Epoch [0][10]\t Batch [450][550]\t Training Loss 0.5155\t Accuracy 0.8448\n",
            "Epoch [0][10]\t Batch [500][550]\t Training Loss 0.4910\t Accuracy 0.8522\n",
            "\n",
            "Epoch [0]\t Average training loss 0.4686\t Average training accuracy 0.8595\n",
            "Epoch [0]\t Average validation loss 0.1908\t Average validation accuracy 0.9480\n",
            "\n",
            "Epoch [1][10]\t Batch [0][550]\t Training Loss 0.2890\t Accuracy 0.9200\n",
            "Epoch [1][10]\t Batch [50][550]\t Training Loss 0.2086\t Accuracy 0.9429\n",
            "Epoch [1][10]\t Batch [100][550]\t Training Loss 0.2188\t Accuracy 0.9407\n",
            "Epoch [1][10]\t Batch [150][550]\t Training Loss 0.2191\t Accuracy 0.9393\n",
            "Epoch [1][10]\t Batch [200][550]\t Training Loss 0.2149\t Accuracy 0.9397\n",
            "Epoch [1][10]\t Batch [250][550]\t Training Loss 0.2100\t Accuracy 0.9410\n",
            "Epoch [1][10]\t Batch [300][550]\t Training Loss 0.2088\t Accuracy 0.9414\n",
            "Epoch [1][10]\t Batch [350][550]\t Training Loss 0.2080\t Accuracy 0.9415\n",
            "Epoch [1][10]\t Batch [400][550]\t Training Loss 0.2051\t Accuracy 0.9426\n",
            "Epoch [1][10]\t Batch [450][550]\t Training Loss 0.2034\t Accuracy 0.9432\n",
            "Epoch [1][10]\t Batch [500][550]\t Training Loss 0.2032\t Accuracy 0.9428\n",
            "\n",
            "Epoch [1]\t Average training loss 0.2010\t Average training accuracy 0.9440\n",
            "Epoch [1]\t Average validation loss 0.1460\t Average validation accuracy 0.9610\n",
            "\n",
            "Epoch [2][10]\t Batch [0][550]\t Training Loss 0.2165\t Accuracy 0.9600\n",
            "Epoch [2][10]\t Batch [50][550]\t Training Loss 0.1614\t Accuracy 0.9575\n",
            "Epoch [2][10]\t Batch [100][550]\t Training Loss 0.1714\t Accuracy 0.9549\n",
            "Epoch [2][10]\t Batch [150][550]\t Training Loss 0.1728\t Accuracy 0.9530\n",
            "Epoch [2][10]\t Batch [200][550]\t Training Loss 0.1706\t Accuracy 0.9540\n",
            "Epoch [2][10]\t Batch [250][550]\t Training Loss 0.1675\t Accuracy 0.9544\n",
            "Epoch [2][10]\t Batch [300][550]\t Training Loss 0.1677\t Accuracy 0.9546\n",
            "Epoch [2][10]\t Batch [350][550]\t Training Loss 0.1679\t Accuracy 0.9547\n",
            "Epoch [2][10]\t Batch [400][550]\t Training Loss 0.1665\t Accuracy 0.9550\n",
            "Epoch [2][10]\t Batch [450][550]\t Training Loss 0.1661\t Accuracy 0.9554\n",
            "Epoch [2][10]\t Batch [500][550]\t Training Loss 0.1671\t Accuracy 0.9549\n",
            "\n",
            "Epoch [2]\t Average training loss 0.1661\t Average training accuracy 0.9554\n",
            "Epoch [2]\t Average validation loss 0.1293\t Average validation accuracy 0.9680\n",
            "\n",
            "Epoch [3][10]\t Batch [0][550]\t Training Loss 0.1865\t Accuracy 0.9800\n",
            "Epoch [3][10]\t Batch [50][550]\t Training Loss 0.1424\t Accuracy 0.9643\n",
            "Epoch [3][10]\t Batch [100][550]\t Training Loss 0.1515\t Accuracy 0.9618\n",
            "Epoch [3][10]\t Batch [150][550]\t Training Loss 0.1534\t Accuracy 0.9603\n",
            "Epoch [3][10]\t Batch [200][550]\t Training Loss 0.1520\t Accuracy 0.9611\n",
            "Epoch [3][10]\t Batch [250][550]\t Training Loss 0.1497\t Accuracy 0.9619\n",
            "Epoch [3][10]\t Batch [300][550]\t Training Loss 0.1501\t Accuracy 0.9616\n",
            "Epoch [3][10]\t Batch [350][550]\t Training Loss 0.1506\t Accuracy 0.9614\n",
            "Epoch [3][10]\t Batch [400][550]\t Training Loss 0.1498\t Accuracy 0.9615\n",
            "Epoch [3][10]\t Batch [450][550]\t Training Loss 0.1498\t Accuracy 0.9616\n",
            "Epoch [3][10]\t Batch [500][550]\t Training Loss 0.1512\t Accuracy 0.9608\n",
            "\n",
            "Epoch [3]\t Average training loss 0.1507\t Average training accuracy 0.9611\n",
            "Epoch [3]\t Average validation loss 0.1214\t Average validation accuracy 0.9702\n",
            "\n",
            "Epoch [4][10]\t Batch [0][550]\t Training Loss 0.1728\t Accuracy 0.9800\n",
            "Epoch [4][10]\t Batch [50][550]\t Training Loss 0.1335\t Accuracy 0.9686\n",
            "Epoch [4][10]\t Batch [100][550]\t Training Loss 0.1419\t Accuracy 0.9656\n",
            "Epoch [4][10]\t Batch [150][550]\t Training Loss 0.1440\t Accuracy 0.9641\n",
            "Epoch [4][10]\t Batch [200][550]\t Training Loss 0.1428\t Accuracy 0.9648\n",
            "Epoch [4][10]\t Batch [250][550]\t Training Loss 0.1409\t Accuracy 0.9655\n",
            "Epoch [4][10]\t Batch [300][550]\t Training Loss 0.1413\t Accuracy 0.9651\n",
            "Epoch [4][10]\t Batch [350][550]\t Training Loss 0.1418\t Accuracy 0.9648\n",
            "Epoch [4][10]\t Batch [400][550]\t Training Loss 0.1412\t Accuracy 0.9649\n",
            "Epoch [4][10]\t Batch [450][550]\t Training Loss 0.1415\t Accuracy 0.9647\n",
            "Epoch [4][10]\t Batch [500][550]\t Training Loss 0.1430\t Accuracy 0.9640\n",
            "\n",
            "Epoch [4]\t Average training loss 0.1427\t Average training accuracy 0.9641\n",
            "Epoch [4]\t Average validation loss 0.1176\t Average validation accuracy 0.9730\n",
            "\n",
            "Epoch [5][10]\t Batch [0][550]\t Training Loss 0.1661\t Accuracy 0.9800\n",
            "Epoch [5][10]\t Batch [50][550]\t Training Loss 0.1290\t Accuracy 0.9696\n",
            "Epoch [5][10]\t Batch [100][550]\t Training Loss 0.1367\t Accuracy 0.9671\n",
            "Epoch [5][10]\t Batch [150][550]\t Training Loss 0.1390\t Accuracy 0.9658\n",
            "Epoch [5][10]\t Batch [200][550]\t Training Loss 0.1379\t Accuracy 0.9662\n",
            "Epoch [5][10]\t Batch [250][550]\t Training Loss 0.1361\t Accuracy 0.9669\n",
            "Epoch [5][10]\t Batch [300][550]\t Training Loss 0.1365\t Accuracy 0.9666\n",
            "Epoch [5][10]\t Batch [350][550]\t Training Loss 0.1370\t Accuracy 0.9665\n",
            "Epoch [5][10]\t Batch [400][550]\t Training Loss 0.1365\t Accuracy 0.9667\n",
            "Epoch [5][10]\t Batch [450][550]\t Training Loss 0.1368\t Accuracy 0.9665\n",
            "Epoch [5][10]\t Batch [500][550]\t Training Loss 0.1384\t Accuracy 0.9658\n",
            "\n",
            "Epoch [5]\t Average training loss 0.1382\t Average training accuracy 0.9659\n",
            "Epoch [5]\t Average validation loss 0.1148\t Average validation accuracy 0.9738\n",
            "\n",
            "Epoch [6][10]\t Batch [0][550]\t Training Loss 0.1637\t Accuracy 0.9800\n",
            "Epoch [6][10]\t Batch [50][550]\t Training Loss 0.1261\t Accuracy 0.9694\n",
            "Epoch [6][10]\t Batch [100][550]\t Training Loss 0.1336\t Accuracy 0.9680\n",
            "Epoch [6][10]\t Batch [150][550]\t Training Loss 0.1361\t Accuracy 0.9667\n",
            "Epoch [6][10]\t Batch [200][550]\t Training Loss 0.1350\t Accuracy 0.9673\n",
            "Epoch [6][10]\t Batch [250][550]\t Training Loss 0.1332\t Accuracy 0.9681\n",
            "Epoch [6][10]\t Batch [300][550]\t Training Loss 0.1336\t Accuracy 0.9676\n",
            "Epoch [6][10]\t Batch [350][550]\t Training Loss 0.1341\t Accuracy 0.9677\n",
            "Epoch [6][10]\t Batch [400][550]\t Training Loss 0.1336\t Accuracy 0.9679\n",
            "Epoch [6][10]\t Batch [450][550]\t Training Loss 0.1340\t Accuracy 0.9677\n",
            "Epoch [6][10]\t Batch [500][550]\t Training Loss 0.1356\t Accuracy 0.9669\n",
            "\n",
            "Epoch [6]\t Average training loss 0.1355\t Average training accuracy 0.9671\n",
            "Epoch [6]\t Average validation loss 0.1130\t Average validation accuracy 0.9748\n",
            "\n",
            "Epoch [7][10]\t Batch [0][550]\t Training Loss 0.1626\t Accuracy 0.9800\n",
            "Epoch [7][10]\t Batch [50][550]\t Training Loss 0.1246\t Accuracy 0.9694\n",
            "Epoch [7][10]\t Batch [100][550]\t Training Loss 0.1318\t Accuracy 0.9684\n",
            "Epoch [7][10]\t Batch [150][550]\t Training Loss 0.1345\t Accuracy 0.9669\n",
            "Epoch [7][10]\t Batch [200][550]\t Training Loss 0.1334\t Accuracy 0.9671\n",
            "Epoch [7][10]\t Batch [250][550]\t Training Loss 0.1316\t Accuracy 0.9680\n",
            "Epoch [7][10]\t Batch [300][550]\t Training Loss 0.1319\t Accuracy 0.9677\n",
            "Epoch [7][10]\t Batch [350][550]\t Training Loss 0.1324\t Accuracy 0.9679\n",
            "Epoch [7][10]\t Batch [400][550]\t Training Loss 0.1320\t Accuracy 0.9682\n",
            "Epoch [7][10]\t Batch [450][550]\t Training Loss 0.1324\t Accuracy 0.9679\n",
            "Epoch [7][10]\t Batch [500][550]\t Training Loss 0.1340\t Accuracy 0.9671\n",
            "\n",
            "Epoch [7]\t Average training loss 0.1339\t Average training accuracy 0.9673\n",
            "Epoch [7]\t Average validation loss 0.1122\t Average validation accuracy 0.9748\n",
            "\n",
            "Epoch [8][10]\t Batch [0][550]\t Training Loss 0.1626\t Accuracy 0.9800\n",
            "Epoch [8][10]\t Batch [50][550]\t Training Loss 0.1236\t Accuracy 0.9692\n",
            "Epoch [8][10]\t Batch [100][550]\t Training Loss 0.1308\t Accuracy 0.9685\n",
            "Epoch [8][10]\t Batch [150][550]\t Training Loss 0.1337\t Accuracy 0.9670\n",
            "Epoch [8][10]\t Batch [200][550]\t Training Loss 0.1326\t Accuracy 0.9673\n",
            "Epoch [8][10]\t Batch [250][550]\t Training Loss 0.1308\t Accuracy 0.9680\n",
            "Epoch [8][10]\t Batch [300][550]\t Training Loss 0.1310\t Accuracy 0.9678\n",
            "Epoch [8][10]\t Batch [350][550]\t Training Loss 0.1314\t Accuracy 0.9679\n",
            "Epoch [8][10]\t Batch [400][550]\t Training Loss 0.1311\t Accuracy 0.9683\n",
            "Epoch [8][10]\t Batch [450][550]\t Training Loss 0.1315\t Accuracy 0.9680\n",
            "Epoch [8][10]\t Batch [500][550]\t Training Loss 0.1332\t Accuracy 0.9673\n",
            "\n",
            "Epoch [8]\t Average training loss 0.1331\t Average training accuracy 0.9675\n",
            "Epoch [8]\t Average validation loss 0.1117\t Average validation accuracy 0.9752\n",
            "\n",
            "Epoch [9][10]\t Batch [0][550]\t Training Loss 0.1630\t Accuracy 0.9800\n",
            "Epoch [9][10]\t Batch [50][550]\t Training Loss 0.1229\t Accuracy 0.9698\n",
            "Epoch [9][10]\t Batch [100][550]\t Training Loss 0.1302\t Accuracy 0.9690\n",
            "Epoch [9][10]\t Batch [150][550]\t Training Loss 0.1333\t Accuracy 0.9674\n",
            "Epoch [9][10]\t Batch [200][550]\t Training Loss 0.1321\t Accuracy 0.9675\n",
            "Epoch [9][10]\t Batch [250][550]\t Training Loss 0.1303\t Accuracy 0.9683\n",
            "Epoch [9][10]\t Batch [300][550]\t Training Loss 0.1304\t Accuracy 0.9683\n",
            "Epoch [9][10]\t Batch [350][550]\t Training Loss 0.1308\t Accuracy 0.9683\n",
            "Epoch [9][10]\t Batch [400][550]\t Training Loss 0.1306\t Accuracy 0.9687\n",
            "Epoch [9][10]\t Batch [450][550]\t Training Loss 0.1310\t Accuracy 0.9684\n",
            "Epoch [9][10]\t Batch [500][550]\t Training Loss 0.1326\t Accuracy 0.9676\n",
            "\n",
            "Epoch [9]\t Average training loss 0.1326\t Average training accuracy 0.9678\n",
            "Epoch [9]\t Average validation loss 0.1114\t Average validation accuracy 0.9758\n",
            "\n"
          ],
          "name": "stdout"
        }
      ]
    },
    {
      "cell_type": "code",
      "metadata": {
        "colab": {
          "base_uri": "https://localhost:8080/"
        },
        "id": "05h64vHj6bMJ",
        "outputId": "7a5e6991-82c4-46e8-8c28-dfd172386ce3"
      },
      "source": [
        "# Test\n",
        "convNet.is_training = False\n",
        "test(convNet, criterion, data_test, batch_size, disp_freq)"
      ],
      "execution_count": 10,
      "outputs": [
        {
          "output_type": "stream",
          "text": [
            "Testing...\n",
            "The test accuracy is 0.9710.\n",
            "\n"
          ],
          "name": "stdout"
        }
      ]
    },
    {
      "cell_type": "code",
      "metadata": {
        "colab": {
          "base_uri": "https://localhost:8080/",
          "height": 545
        },
        "id": "w58iUVvD6bMJ",
        "outputId": "8d2438f8-f029-42cc-86cc-935b1edc604b"
      },
      "source": [
        "plot_loss_and_acc({'ConvNet': [conv_loss, conv_acc]})"
      ],
      "execution_count": 11,
      "outputs": [
        {
          "output_type": "display_data",
          "data": {
            "image/png": "[encoded data removed]",
            "text/plain": [
              "<Figure size 432x288 with 1 Axes>"
            ]
          },
          "metadata": {
            "tags": [],
            "needs_background": "light"
          }
        },
        {
          "output_type": "display_data",
          "data": {
            "image/png": "[encoded data removed]",
            "text/plain": [
              "<Figure size 432x288 with 1 Axes>"
            ]
          },
          "metadata": {
            "tags": [],
            "needs_background": "light"
          }
        }
      ]
    },
    {
      "cell_type": "markdown",
      "metadata": {
        "id": "PkTqgzSEeXeD"
      },
      "source": [
        "## ConvNet dropout @ FC layer"
      ]
    },
    {
      "cell_type": "code",
      "metadata": {
        "id": "MKi3yDHn6bMK"
      },
      "source": [
        "from layers import DropoutLayer, FCLayer, ReLULayer, ConvLayer, MaxPoolingLayer, ReshapeLayer\n",
        "\n",
        "convNet = Network()\n",
        "convNet.add(ConvLayer(1, 8, 3, 1))\n",
        "convNet.add(ReLULayer())\n",
        "convNet.add(MaxPoolingLayer(2, 0))\n",
        "convNet.add(ConvLayer(8, 16, 3, 1))\n",
        "convNet.add(ReLULayer())\n",
        "convNet.add(MaxPoolingLayer(2, 0))\n",
        "convNet.add(ReshapeLayer((batch_size, 16, 7, 7), (batch_size, 784)))\n",
        "convNet.add(FCLayer(784, 128))\n",
        "convNet.add(ReLULayer())\n",
        "convNet.add(DropoutLayer())\n",
        "convNet.add(FCLayer(128, 10))"
      ],
      "execution_count": 12,
      "outputs": []
    },
    {
      "cell_type": "code",
      "metadata": {
        "id": "P3RUv5MO6bMK"
      },
      "source": [
        "# training\n",
        "convNet.is_training = True\n",
        "convNet, conv_loss, conv_acc = train(convNet, criterion, sgd, data_train, max_epoch, batch_size, disp_freq)"
      ],
      "execution_count": null,
      "outputs": []
    },
    {
      "cell_type": "code",
      "metadata": {
        "id": "Hl8vzXMZVijt"
      },
      "source": [
        "# Test\n",
        "convNet.is_training = False\n",
        "test(convNet, criterion, data_test, batch_size, disp_freq)"
      ],
      "execution_count": null,
      "outputs": []
    },
    {
      "cell_type": "code",
      "metadata": {
        "id": "tfFU5-VCVm5n"
      },
      "source": [
        "plot_loss_and_acc({'ConvNet_with_dropout': [conv_loss, conv_acc]})"
      ],
      "execution_count": null,
      "outputs": []
    },
    {
      "cell_type": "markdown",
      "metadata": {
        "id": "vgxnLEDQF1Hf"
      },
      "source": [
        "## ConvNet dropout @ convolutional layer"
      ]
    },
    {
      "cell_type": "code",
      "metadata": {
        "id": "JIzyePXOF3ON"
      },
      "source": [
        "from layers import DropoutLayer, FCLayer, ReLULayer, ConvLayer, MaxPoolingLayer, ReshapeLayer\n",
        "\n",
        "convNet = Network()\n",
        "convNet.add(ConvLayer(1, 8, 3, 1))\n",
        "convNet.add(ReLULayer())\n",
        "convNet.add(DropoutLayer())\n",
        "convNet.add(MaxPoolingLayer(2, 0))\n",
        "\n",
        "convNet.add(ConvLayer(8, 16, 3, 1))\n",
        "convNet.add(ReLULayer())\n",
        "convNet.add(DropoutLayer())\n",
        "convNet.add(MaxPoolingLayer(2, 0))\n",
        "\n",
        "convNet.add(ReshapeLayer((batch_size, 16, 7, 7), (batch_size, 784)))\n",
        "convNet.add(FCLayer(784, 128))\n",
        "convNet.add(ReLULayer())\n",
        "convNet.add(FCLayer(128, 10))\n",
        "\n",
        "# training\n",
        "convNet.is_training = True\n",
        "convNet, conv_loss, conv_acc = train(convNet, criterion, sgd, data_train, max_epoch, batch_size, disp_freq)\n",
        "\n",
        "# Test\n",
        "convNet.is_training = False\n",
        "test(convNet, criterion, data_test, batch_size, disp_freq)"
      ],
      "execution_count": null,
      "outputs": []
    },
    {
      "cell_type": "code",
      "metadata": {
        "id": "-q9Qkv4NF9iU"
      },
      "source": [
        "plot_loss_and_acc({'ConvNet_with_dropout': [conv_loss, conv_acc]})"
      ],
      "execution_count": null,
      "outputs": []
    }
  ]
}