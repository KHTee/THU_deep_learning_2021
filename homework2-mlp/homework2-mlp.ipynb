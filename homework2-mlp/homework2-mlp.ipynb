{
 "cells": [
  {
   "cell_type": "markdown",
   "metadata": {},
   "source": [
    "# Homework-2: MLP for MNIST Classification\n",
    "\n",
    "### In this homework, you need to\n",
    "- #### implement SGD optimizer (`./optimizer.py`)\n",
    "- #### implement forward and backward for FCLayer (`layers/fc_layer.py`)\n",
    "- #### implement forward and backward for SigmoidLayer (`layers/sigmoid_layer.py`)\n",
    "- #### implement forward and backward for ReLULayer (`layers/relu_layer.py`)\n",
    "- #### implement EuclideanLossLayer (`criterion/euclidean_loss.py`)\n",
    "- #### implement SoftmaxCrossEntropyLossLayer (`criterion/softmax_cross_entropy.py`)"
   ]
  },
  {
   "cell_type": "code",
   "execution_count": 1,
   "metadata": {},
   "outputs": [],
   "source": [
    "import numpy as np\n",
    "import matplotlib.pyplot as plt\n",
    "%matplotlib inline\n",
    "import tensorflow.compat.v1 as tf\n",
    "tf.disable_eager_execution()\n",
    "\n",
    "from network import Network\n",
    "from solver import train, test\n",
    "from plot import plot_loss_and_acc"
   ]
  },
  {
   "cell_type": "markdown",
   "metadata": {},
   "source": [
    "## Load MNIST Dataset\n",
    "We use tensorflow tools to load dataset for convenience."
   ]
  },
  {
   "cell_type": "code",
   "execution_count": 2,
   "metadata": {},
   "outputs": [],
   "source": [
    "(x_train, y_train), (x_test, y_test) = tf.keras.datasets.mnist.load_data()"
   ]
  },
  {
   "cell_type": "code",
   "execution_count": 3,
   "metadata": {},
   "outputs": [],
   "source": [
    "def decode_image(image):\n",
    "    # Normalize from [0, 255.] to [0., 1.0], and then subtract by the mean value\n",
    "    image = tf.cast(image, tf.float32)\n",
    "    image = tf.reshape(image, [784])\n",
    "    image = image / 255.0\n",
    "    image = image - tf.reduce_mean(image)\n",
    "    return image\n",
    "\n",
    "def decode_label(label):\n",
    "    # Encode label with one-hot encoding\n",
    "    return tf.one_hot(label, depth=10)"
   ]
  },
  {
   "cell_type": "code",
   "execution_count": 4,
   "metadata": {},
   "outputs": [],
   "source": [
    "# Data Preprocessing\n",
    "x_train = tf.data.Dataset.from_tensor_slices(x_train).map(decode_image)\n",
    "y_train = tf.data.Dataset.from_tensor_slices(y_train).map(decode_label)\n",
    "data_train = tf.data.Dataset.zip((x_train, y_train))\n",
    "\n",
    "x_test = tf.data.Dataset.from_tensor_slices(x_test).map(decode_image)\n",
    "y_test = tf.data.Dataset.from_tensor_slices(y_test).map(decode_label)\n",
    "data_test = tf.data.Dataset.zip((x_test, y_test))"
   ]
  },
  {
   "cell_type": "markdown",
   "metadata": {},
   "source": [
    "## Set Hyerparameters\n",
    "You can modify hyerparameters by yourself."
   ]
  },
  {
   "cell_type": "code",
   "execution_count": 5,
   "metadata": {},
   "outputs": [],
   "source": [
    "batch_size = 100\n",
    "max_epoch = 20\n",
    "init_std = 0.01\n",
    "\n",
    "learning_rate_SGD = 0.001\n",
    "weight_decay = 0.1\n",
    "\n",
    "disp_freq = 50"
   ]
  },
  {
   "cell_type": "markdown",
   "metadata": {},
   "source": [
    "## 1. MLP with Euclidean Loss\n",
    "In part-1, you need to train a MLP with **Euclidean Loss**.  \n",
    "**Sigmoid Activation Function** and **ReLU Activation Function** will be used respectively.\n",
    "### TODO\n",
    "Before executing the following code, you should complete **./optimizer.py** and **criterion/euclidean_loss.py**."
   ]
  },
  {
   "cell_type": "code",
   "execution_count": 6,
   "metadata": {},
   "outputs": [],
   "source": [
    "from criterion import EuclideanLossLayer\n",
    "from optimizer import SGD\n",
    "\n",
    "criterion = EuclideanLossLayer()\n",
    "\n",
    "sgd = SGD(learning_rate_SGD, weight_decay)"
   ]
  },
  {
   "cell_type": "markdown",
   "metadata": {},
   "source": [
    "## 1.1 MLP with Euclidean Loss and Sigmoid Activation Function\n",
    "Build and train a MLP contraining one hidden layer with 128 units using Sigmoid activation function and Euclidean loss function.\n",
    "\n",
    "### TODO\n",
    "Before executing the following code, you should complete **layers/fc_layer.py** and **layers/sigmoid_layer.py**."
   ]
  },
  {
   "cell_type": "code",
   "execution_count": 7,
   "metadata": {},
   "outputs": [],
   "source": [
    "from layers import FCLayer, SigmoidLayer\n",
    "\n",
    "sigmoidMLP = Network()\n",
    "# Build MLP with FCLayer and SigmoidLayer\n",
    "# 128 is the number of hidden units, you can change by your own\n",
    "sigmoidMLP.add(FCLayer(784, 128))\n",
    "sigmoidMLP.add(SigmoidLayer())\n",
    "sigmoidMLP.add(FCLayer(128, 10))"
   ]
  },
  {
   "cell_type": "code",
   "execution_count": 8,
   "metadata": {
    "scrolled": true
   },
   "outputs": [
    {
     "name": "stdout",
     "output_type": "stream",
     "text": [
      "WARNING:tensorflow:From C:\\Users\\user\\Documents\\Lecture Note\\Deep learning\\hw\\homework-2\\homework2-mlp\\solver.py:15: DatasetV1.make_one_shot_iterator (from tensorflow.python.data.ops.dataset_ops) is deprecated and will be removed in a future version.\n",
      "Instructions for updating:\n",
      "This is a deprecated API that should only be used in TF 1 graph mode and legacy TF 2 graph mode available through `tf.compat.v1`. In all other situations -- namely, eager mode and inside `tf.function` -- you can consume dataset elements using `for elem in dataset: ...` or by explicitly creating iterator via `iterator = iter(dataset)` and fetching its elements via `values = next(iterator)`. Furthermore, this API is not available in TF 2. During the transition from TF 1 to TF 2 you can use `tf.compat.v1.data.make_one_shot_iterator(dataset)` to create a TF 1 graph mode style iterator for a dataset created through TF 2 APIs. Note that this should be a transient state of your code base as there are in general no guarantees about the interoperability of TF 1 and TF 2 code.\n",
      "Epoch [0][20]\t Batch [0][550]\t Training Loss 0.3367\t Accuracy 0.1500\n",
      "Epoch [0][20]\t Batch [50][550]\t Training Loss 0.1276\t Accuracy 0.1806\n",
      "Epoch [0][20]\t Batch [100][550]\t Training Loss 0.1128\t Accuracy 0.2558\n",
      "Epoch [0][20]\t Batch [150][550]\t Training Loss 0.1058\t Accuracy 0.3241\n",
      "Epoch [0][20]\t Batch [200][550]\t Training Loss 0.1009\t Accuracy 0.3805\n",
      "Epoch [0][20]\t Batch [250][550]\t Training Loss 0.0974\t Accuracy 0.4264\n",
      "Epoch [0][20]\t Batch [300][550]\t Training Loss 0.0945\t Accuracy 0.4662\n",
      "Epoch [0][20]\t Batch [350][550]\t Training Loss 0.0924\t Accuracy 0.4968\n",
      "Epoch [0][20]\t Batch [400][550]\t Training Loss 0.0905\t Accuracy 0.5233\n",
      "Epoch [0][20]\t Batch [450][550]\t Training Loss 0.0890\t Accuracy 0.5456\n",
      "Epoch [0][20]\t Batch [500][550]\t Training Loss 0.0877\t Accuracy 0.5646\n",
      "\n",
      "Epoch [0]\t Average training loss 0.0864\t Average training accuracy 0.5817\n",
      "Epoch [0]\t Average validation loss 0.0715\t Average validation accuracy 0.7990\n",
      "\n",
      "Epoch [1][20]\t Batch [0][550]\t Training Loss 0.0716\t Accuracy 0.8100\n",
      "Epoch [1][20]\t Batch [50][550]\t Training Loss 0.0732\t Accuracy 0.7727\n",
      "Epoch [1][20]\t Batch [100][550]\t Training Loss 0.0727\t Accuracy 0.7796\n",
      "Epoch [1][20]\t Batch [150][550]\t Training Loss 0.0728\t Accuracy 0.7751\n",
      "Epoch [1][20]\t Batch [200][550]\t Training Loss 0.0726\t Accuracy 0.7778\n",
      "Epoch [1][20]\t Batch [250][550]\t Training Loss 0.0724\t Accuracy 0.7794\n",
      "Epoch [1][20]\t Batch [300][550]\t Training Loss 0.0721\t Accuracy 0.7812\n",
      "Epoch [1][20]\t Batch [350][550]\t Training Loss 0.0720\t Accuracy 0.7823\n",
      "Epoch [1][20]\t Batch [400][550]\t Training Loss 0.0719\t Accuracy 0.7843\n",
      "Epoch [1][20]\t Batch [450][550]\t Training Loss 0.0717\t Accuracy 0.7865\n",
      "Epoch [1][20]\t Batch [500][550]\t Training Loss 0.0716\t Accuracy 0.7876\n",
      "\n",
      "Epoch [1]\t Average training loss 0.0714\t Average training accuracy 0.7896\n",
      "Epoch [1]\t Average validation loss 0.0667\t Average validation accuracy 0.8536\n",
      "\n",
      "Epoch [2][20]\t Batch [0][550]\t Training Loss 0.0667\t Accuracy 0.8700\n",
      "Epoch [2][20]\t Batch [50][550]\t Training Loss 0.0686\t Accuracy 0.8245\n",
      "Epoch [2][20]\t Batch [100][550]\t Training Loss 0.0685\t Accuracy 0.8253\n",
      "Epoch [2][20]\t Batch [150][550]\t Training Loss 0.0689\t Accuracy 0.8174\n",
      "Epoch [2][20]\t Batch [200][550]\t Training Loss 0.0688\t Accuracy 0.8177\n",
      "Epoch [2][20]\t Batch [250][550]\t Training Loss 0.0687\t Accuracy 0.8180\n",
      "Epoch [2][20]\t Batch [300][550]\t Training Loss 0.0687\t Accuracy 0.8179\n",
      "Epoch [2][20]\t Batch [350][550]\t Training Loss 0.0687\t Accuracy 0.8175\n",
      "Epoch [2][20]\t Batch [400][550]\t Training Loss 0.0687\t Accuracy 0.8181\n",
      "Epoch [2][20]\t Batch [450][550]\t Training Loss 0.0686\t Accuracy 0.8187\n",
      "Epoch [2][20]\t Batch [500][550]\t Training Loss 0.0686\t Accuracy 0.8187\n",
      "\n",
      "Epoch [2]\t Average training loss 0.0685\t Average training accuracy 0.8197\n",
      "Epoch [2]\t Average validation loss 0.0647\t Average validation accuracy 0.8644\n",
      "\n",
      "Epoch [3][20]\t Batch [0][550]\t Training Loss 0.0648\t Accuracy 0.8800\n",
      "Epoch [3][20]\t Batch [50][550]\t Training Loss 0.0667\t Accuracy 0.8400\n",
      "Epoch [3][20]\t Batch [100][550]\t Training Loss 0.0668\t Accuracy 0.8394\n",
      "Epoch [3][20]\t Batch [150][550]\t Training Loss 0.0672\t Accuracy 0.8321\n",
      "Epoch [3][20]\t Batch [200][550]\t Training Loss 0.0672\t Accuracy 0.8314\n",
      "Epoch [3][20]\t Batch [250][550]\t Training Loss 0.0671\t Accuracy 0.8307\n",
      "Epoch [3][20]\t Batch [300][550]\t Training Loss 0.0671\t Accuracy 0.8309\n",
      "Epoch [3][20]\t Batch [350][550]\t Training Loss 0.0672\t Accuracy 0.8301\n",
      "Epoch [3][20]\t Batch [400][550]\t Training Loss 0.0672\t Accuracy 0.8303\n",
      "Epoch [3][20]\t Batch [450][550]\t Training Loss 0.0672\t Accuracy 0.8305\n",
      "Epoch [3][20]\t Batch [500][550]\t Training Loss 0.0672\t Accuracy 0.8304\n",
      "\n",
      "Epoch [3]\t Average training loss 0.0671\t Average training accuracy 0.8309\n",
      "Epoch [3]\t Average validation loss 0.0637\t Average validation accuracy 0.8736\n",
      "\n",
      "Epoch [4][20]\t Batch [0][550]\t Training Loss 0.0637\t Accuracy 0.8800\n",
      "Epoch [4][20]\t Batch [50][550]\t Training Loss 0.0657\t Accuracy 0.8455\n",
      "Epoch [4][20]\t Batch [100][550]\t Training Loss 0.0658\t Accuracy 0.8446\n",
      "Epoch [4][20]\t Batch [150][550]\t Training Loss 0.0662\t Accuracy 0.8375\n",
      "Epoch [4][20]\t Batch [200][550]\t Training Loss 0.0662\t Accuracy 0.8365\n",
      "Epoch [4][20]\t Batch [250][550]\t Training Loss 0.0662\t Accuracy 0.8365\n",
      "Epoch [4][20]\t Batch [300][550]\t Training Loss 0.0662\t Accuracy 0.8370\n",
      "Epoch [4][20]\t Batch [350][550]\t Training Loss 0.0663\t Accuracy 0.8360\n",
      "Epoch [4][20]\t Batch [400][550]\t Training Loss 0.0663\t Accuracy 0.8364\n",
      "Epoch [4][20]\t Batch [450][550]\t Training Loss 0.0663\t Accuracy 0.8365\n",
      "Epoch [4][20]\t Batch [500][550]\t Training Loss 0.0663\t Accuracy 0.8361\n",
      "\n",
      "Epoch [4]\t Average training loss 0.0663\t Average training accuracy 0.8365\n",
      "Epoch [4]\t Average validation loss 0.0630\t Average validation accuracy 0.8788\n",
      "\n",
      "Epoch [5][20]\t Batch [0][550]\t Training Loss 0.0631\t Accuracy 0.8900\n",
      "Epoch [5][20]\t Batch [50][550]\t Training Loss 0.0651\t Accuracy 0.8496\n",
      "Epoch [5][20]\t Batch [100][550]\t Training Loss 0.0652\t Accuracy 0.8484\n",
      "Epoch [5][20]\t Batch [150][550]\t Training Loss 0.0656\t Accuracy 0.8411\n",
      "Epoch [5][20]\t Batch [200][550]\t Training Loss 0.0656\t Accuracy 0.8405\n",
      "Epoch [5][20]\t Batch [250][550]\t Training Loss 0.0656\t Accuracy 0.8405\n",
      "Epoch [5][20]\t Batch [300][550]\t Training Loss 0.0656\t Accuracy 0.8408\n",
      "Epoch [5][20]\t Batch [350][550]\t Training Loss 0.0658\t Accuracy 0.8397\n",
      "Epoch [5][20]\t Batch [400][550]\t Training Loss 0.0658\t Accuracy 0.8402\n",
      "Epoch [5][20]\t Batch [450][550]\t Training Loss 0.0658\t Accuracy 0.8402\n",
      "Epoch [5][20]\t Batch [500][550]\t Training Loss 0.0658\t Accuracy 0.8394\n",
      "\n",
      "Epoch [5]\t Average training loss 0.0658\t Average training accuracy 0.8399\n",
      "Epoch [5]\t Average validation loss 0.0626\t Average validation accuracy 0.8796\n",
      "\n",
      "Epoch [6][20]\t Batch [0][550]\t Training Loss 0.0627\t Accuracy 0.8900\n",
      "Epoch [6][20]\t Batch [50][550]\t Training Loss 0.0646\t Accuracy 0.8518\n",
      "Epoch [6][20]\t Batch [100][550]\t Training Loss 0.0648\t Accuracy 0.8502\n",
      "Epoch [6][20]\t Batch [150][550]\t Training Loss 0.0652\t Accuracy 0.8437\n",
      "Epoch [6][20]\t Batch [200][550]\t Training Loss 0.0653\t Accuracy 0.8430\n",
      "Epoch [6][20]\t Batch [250][550]\t Training Loss 0.0653\t Accuracy 0.8430\n",
      "Epoch [6][20]\t Batch [300][550]\t Training Loss 0.0653\t Accuracy 0.8437\n",
      "Epoch [6][20]\t Batch [350][550]\t Training Loss 0.0654\t Accuracy 0.8426\n",
      "Epoch [6][20]\t Batch [400][550]\t Training Loss 0.0654\t Accuracy 0.8433\n",
      "Epoch [6][20]\t Batch [450][550]\t Training Loss 0.0654\t Accuracy 0.8433\n",
      "Epoch [6][20]\t Batch [500][550]\t Training Loss 0.0655\t Accuracy 0.8426\n",
      "\n",
      "Epoch [6]\t Average training loss 0.0654\t Average training accuracy 0.8429\n",
      "Epoch [6]\t Average validation loss 0.0624\t Average validation accuracy 0.8818\n",
      "\n",
      "Epoch [7][20]\t Batch [0][550]\t Training Loss 0.0624\t Accuracy 0.8900\n",
      "Epoch [7][20]\t Batch [50][550]\t Training Loss 0.0643\t Accuracy 0.8531\n",
      "Epoch [7][20]\t Batch [100][550]\t Training Loss 0.0645\t Accuracy 0.8523\n",
      "Epoch [7][20]\t Batch [150][550]\t Training Loss 0.0650\t Accuracy 0.8454\n",
      "Epoch [7][20]\t Batch [200][550]\t Training Loss 0.0650\t Accuracy 0.8447\n",
      "Epoch [7][20]\t Batch [250][550]\t Training Loss 0.0650\t Accuracy 0.8448\n",
      "Epoch [7][20]\t Batch [300][550]\t Training Loss 0.0650\t Accuracy 0.8455\n",
      "Epoch [7][20]\t Batch [350][550]\t Training Loss 0.0651\t Accuracy 0.8444\n",
      "Epoch [7][20]\t Batch [400][550]\t Training Loss 0.0652\t Accuracy 0.8452\n"
     ]
    },
    {
     "name": "stdout",
     "output_type": "stream",
     "text": [
      "Epoch [7][20]\t Batch [450][550]\t Training Loss 0.0652\t Accuracy 0.8451\n",
      "Epoch [7][20]\t Batch [500][550]\t Training Loss 0.0652\t Accuracy 0.8444\n",
      "\n",
      "Epoch [7]\t Average training loss 0.0652\t Average training accuracy 0.8449\n",
      "Epoch [7]\t Average validation loss 0.0622\t Average validation accuracy 0.8834\n",
      "\n",
      "Epoch [8][20]\t Batch [0][550]\t Training Loss 0.0622\t Accuracy 0.8900\n",
      "Epoch [8][20]\t Batch [50][550]\t Training Loss 0.0641\t Accuracy 0.8547\n",
      "Epoch [8][20]\t Batch [100][550]\t Training Loss 0.0643\t Accuracy 0.8536\n",
      "Epoch [8][20]\t Batch [150][550]\t Training Loss 0.0648\t Accuracy 0.8464\n",
      "Epoch [8][20]\t Batch [200][550]\t Training Loss 0.0648\t Accuracy 0.8456\n",
      "Epoch [8][20]\t Batch [250][550]\t Training Loss 0.0648\t Accuracy 0.8459\n",
      "Epoch [8][20]\t Batch [300][550]\t Training Loss 0.0648\t Accuracy 0.8466\n",
      "Epoch [8][20]\t Batch [350][550]\t Training Loss 0.0650\t Accuracy 0.8453\n",
      "Epoch [8][20]\t Batch [400][550]\t Training Loss 0.0650\t Accuracy 0.8463\n",
      "Epoch [8][20]\t Batch [450][550]\t Training Loss 0.0650\t Accuracy 0.8463\n",
      "Epoch [8][20]\t Batch [500][550]\t Training Loss 0.0651\t Accuracy 0.8456\n",
      "\n",
      "Epoch [8]\t Average training loss 0.0650\t Average training accuracy 0.8461\n",
      "Epoch [8]\t Average validation loss 0.0621\t Average validation accuracy 0.8838\n",
      "\n",
      "Epoch [9][20]\t Batch [0][550]\t Training Loss 0.0621\t Accuracy 0.8900\n",
      "Epoch [9][20]\t Batch [50][550]\t Training Loss 0.0640\t Accuracy 0.8563\n",
      "Epoch [9][20]\t Batch [100][550]\t Training Loss 0.0641\t Accuracy 0.8548\n",
      "Epoch [9][20]\t Batch [150][550]\t Training Loss 0.0647\t Accuracy 0.8473\n",
      "Epoch [9][20]\t Batch [200][550]\t Training Loss 0.0647\t Accuracy 0.8467\n",
      "Epoch [9][20]\t Batch [250][550]\t Training Loss 0.0647\t Accuracy 0.8471\n",
      "Epoch [9][20]\t Batch [300][550]\t Training Loss 0.0647\t Accuracy 0.8476\n",
      "Epoch [9][20]\t Batch [350][550]\t Training Loss 0.0648\t Accuracy 0.8462\n",
      "Epoch [9][20]\t Batch [400][550]\t Training Loss 0.0649\t Accuracy 0.8471\n",
      "Epoch [9][20]\t Batch [450][550]\t Training Loss 0.0649\t Accuracy 0.8472\n",
      "Epoch [9][20]\t Batch [500][550]\t Training Loss 0.0650\t Accuracy 0.8466\n",
      "\n",
      "Epoch [9]\t Average training loss 0.0649\t Average training accuracy 0.8470\n",
      "Epoch [9]\t Average validation loss 0.0620\t Average validation accuracy 0.8852\n",
      "\n",
      "Epoch [10][20]\t Batch [0][550]\t Training Loss 0.0620\t Accuracy 0.9000\n",
      "Epoch [10][20]\t Batch [50][550]\t Training Loss 0.0639\t Accuracy 0.8575\n",
      "Epoch [10][20]\t Batch [100][550]\t Training Loss 0.0641\t Accuracy 0.8553\n",
      "Epoch [10][20]\t Batch [150][550]\t Training Loss 0.0646\t Accuracy 0.8475\n",
      "Epoch [10][20]\t Batch [200][550]\t Training Loss 0.0646\t Accuracy 0.8475\n",
      "Epoch [10][20]\t Batch [250][550]\t Training Loss 0.0646\t Accuracy 0.8480\n",
      "Epoch [10][20]\t Batch [300][550]\t Training Loss 0.0646\t Accuracy 0.8485\n",
      "Epoch [10][20]\t Batch [350][550]\t Training Loss 0.0648\t Accuracy 0.8471\n",
      "Epoch [10][20]\t Batch [400][550]\t Training Loss 0.0648\t Accuracy 0.8479\n",
      "Epoch [10][20]\t Batch [450][550]\t Training Loss 0.0648\t Accuracy 0.8479\n",
      "Epoch [10][20]\t Batch [500][550]\t Training Loss 0.0649\t Accuracy 0.8474\n",
      "\n",
      "Epoch [10]\t Average training loss 0.0648\t Average training accuracy 0.8478\n",
      "Epoch [10]\t Average validation loss 0.0619\t Average validation accuracy 0.8858\n",
      "\n",
      "Epoch [11][20]\t Batch [0][550]\t Training Loss 0.0619\t Accuracy 0.9000\n",
      "Epoch [11][20]\t Batch [50][550]\t Training Loss 0.0638\t Accuracy 0.8575\n",
      "Epoch [11][20]\t Batch [100][550]\t Training Loss 0.0640\t Accuracy 0.8556\n",
      "Epoch [11][20]\t Batch [150][550]\t Training Loss 0.0645\t Accuracy 0.8479\n",
      "Epoch [11][20]\t Batch [200][550]\t Training Loss 0.0645\t Accuracy 0.8478\n",
      "Epoch [11][20]\t Batch [250][550]\t Training Loss 0.0645\t Accuracy 0.8482\n",
      "Epoch [11][20]\t Batch [300][550]\t Training Loss 0.0646\t Accuracy 0.8487\n",
      "Epoch [11][20]\t Batch [350][550]\t Training Loss 0.0647\t Accuracy 0.8475\n",
      "Epoch [11][20]\t Batch [400][550]\t Training Loss 0.0647\t Accuracy 0.8484\n",
      "Epoch [11][20]\t Batch [450][550]\t Training Loss 0.0648\t Accuracy 0.8484\n",
      "Epoch [11][20]\t Batch [500][550]\t Training Loss 0.0648\t Accuracy 0.8480\n",
      "\n",
      "Epoch [11]\t Average training loss 0.0648\t Average training accuracy 0.8484\n",
      "Epoch [11]\t Average validation loss 0.0619\t Average validation accuracy 0.8860\n",
      "\n",
      "Epoch [12][20]\t Batch [0][550]\t Training Loss 0.0619\t Accuracy 0.9000\n",
      "Epoch [12][20]\t Batch [50][550]\t Training Loss 0.0638\t Accuracy 0.8580\n",
      "Epoch [12][20]\t Batch [100][550]\t Training Loss 0.0639\t Accuracy 0.8557\n",
      "Epoch [12][20]\t Batch [150][550]\t Training Loss 0.0645\t Accuracy 0.8481\n",
      "Epoch [12][20]\t Batch [200][550]\t Training Loss 0.0645\t Accuracy 0.8479\n",
      "Epoch [12][20]\t Batch [250][550]\t Training Loss 0.0645\t Accuracy 0.8484\n",
      "Epoch [12][20]\t Batch [300][550]\t Training Loss 0.0645\t Accuracy 0.8488\n",
      "Epoch [12][20]\t Batch [350][550]\t Training Loss 0.0647\t Accuracy 0.8478\n",
      "Epoch [12][20]\t Batch [400][550]\t Training Loss 0.0647\t Accuracy 0.8486\n",
      "Epoch [12][20]\t Batch [450][550]\t Training Loss 0.0647\t Accuracy 0.8486\n",
      "Epoch [12][20]\t Batch [500][550]\t Training Loss 0.0648\t Accuracy 0.8482\n",
      "\n",
      "Epoch [12]\t Average training loss 0.0647\t Average training accuracy 0.8485\n",
      "Epoch [12]\t Average validation loss 0.0619\t Average validation accuracy 0.8858\n",
      "\n",
      "Epoch [13][20]\t Batch [0][550]\t Training Loss 0.0618\t Accuracy 0.9000\n",
      "Epoch [13][20]\t Batch [50][550]\t Training Loss 0.0638\t Accuracy 0.8576\n",
      "Epoch [13][20]\t Batch [100][550]\t Training Loss 0.0639\t Accuracy 0.8555\n",
      "Epoch [13][20]\t Batch [150][550]\t Training Loss 0.0644\t Accuracy 0.8479\n",
      "Epoch [13][20]\t Batch [200][550]\t Training Loss 0.0645\t Accuracy 0.8476\n",
      "Epoch [13][20]\t Batch [250][550]\t Training Loss 0.0645\t Accuracy 0.8481\n",
      "Epoch [13][20]\t Batch [300][550]\t Training Loss 0.0645\t Accuracy 0.8486\n",
      "Epoch [13][20]\t Batch [350][550]\t Training Loss 0.0646\t Accuracy 0.8475\n",
      "Epoch [13][20]\t Batch [400][550]\t Training Loss 0.0647\t Accuracy 0.8484\n",
      "Epoch [13][20]\t Batch [450][550]\t Training Loss 0.0647\t Accuracy 0.8485\n",
      "Epoch [13][20]\t Batch [500][550]\t Training Loss 0.0648\t Accuracy 0.8481\n",
      "\n",
      "Epoch [13]\t Average training loss 0.0647\t Average training accuracy 0.8485\n",
      "Epoch [13]\t Average validation loss 0.0618\t Average validation accuracy 0.8860\n",
      "\n",
      "Epoch [14][20]\t Batch [0][550]\t Training Loss 0.0618\t Accuracy 0.9000\n",
      "Epoch [14][20]\t Batch [50][550]\t Training Loss 0.0637\t Accuracy 0.8573\n",
      "Epoch [14][20]\t Batch [100][550]\t Training Loss 0.0639\t Accuracy 0.8553\n",
      "Epoch [14][20]\t Batch [150][550]\t Training Loss 0.0644\t Accuracy 0.8480\n",
      "Epoch [14][20]\t Batch [200][550]\t Training Loss 0.0644\t Accuracy 0.8477\n",
      "Epoch [14][20]\t Batch [250][550]\t Training Loss 0.0645\t Accuracy 0.8485\n",
      "Epoch [14][20]\t Batch [300][550]\t Training Loss 0.0645\t Accuracy 0.8489\n",
      "Epoch [14][20]\t Batch [350][550]\t Training Loss 0.0646\t Accuracy 0.8477\n",
      "Epoch [14][20]\t Batch [400][550]\t Training Loss 0.0646\t Accuracy 0.8486\n",
      "Epoch [14][20]\t Batch [450][550]\t Training Loss 0.0647\t Accuracy 0.8488\n",
      "Epoch [14][20]\t Batch [500][550]\t Training Loss 0.0647\t Accuracy 0.8484\n",
      "\n",
      "Epoch [14]\t Average training loss 0.0647\t Average training accuracy 0.8487\n",
      "Epoch [14]\t Average validation loss 0.0618\t Average validation accuracy 0.8856\n",
      "\n",
      "Epoch [15][20]\t Batch [0][550]\t Training Loss 0.0618\t Accuracy 0.9000\n",
      "Epoch [15][20]\t Batch [50][550]\t Training Loss 0.0637\t Accuracy 0.8573\n",
      "Epoch [15][20]\t Batch [100][550]\t Training Loss 0.0639\t Accuracy 0.8554\n",
      "Epoch [15][20]\t Batch [150][550]\t Training Loss 0.0644\t Accuracy 0.8481\n",
      "Epoch [15][20]\t Batch [200][550]\t Training Loss 0.0644\t Accuracy 0.8479\n",
      "Epoch [15][20]\t Batch [250][550]\t Training Loss 0.0644\t Accuracy 0.8486\n",
      "Epoch [15][20]\t Batch [300][550]\t Training Loss 0.0645\t Accuracy 0.8490\n",
      "Epoch [15][20]\t Batch [350][550]\t Training Loss 0.0646\t Accuracy 0.8479\n",
      "Epoch [15][20]\t Batch [400][550]\t Training Loss 0.0646\t Accuracy 0.8489\n",
      "Epoch [15][20]\t Batch [450][550]\t Training Loss 0.0647\t Accuracy 0.8491\n",
      "Epoch [15][20]\t Batch [500][550]\t Training Loss 0.0647\t Accuracy 0.8487\n",
      "\n",
      "Epoch [15]\t Average training loss 0.0647\t Average training accuracy 0.8489\n",
      "Epoch [15]\t Average validation loss 0.0618\t Average validation accuracy 0.8852\n",
      "\n",
      "Epoch [16][20]\t Batch [0][550]\t Training Loss 0.0618\t Accuracy 0.9000\n",
      "Epoch [16][20]\t Batch [50][550]\t Training Loss 0.0637\t Accuracy 0.8571\n",
      "Epoch [16][20]\t Batch [100][550]\t Training Loss 0.0639\t Accuracy 0.8552\n",
      "Epoch [16][20]\t Batch [150][550]\t Training Loss 0.0644\t Accuracy 0.8480\n",
      "Epoch [16][20]\t Batch [200][550]\t Training Loss 0.0644\t Accuracy 0.8479\n",
      "Epoch [16][20]\t Batch [250][550]\t Training Loss 0.0644\t Accuracy 0.8485\n"
     ]
    },
    {
     "name": "stdout",
     "output_type": "stream",
     "text": [
      "Epoch [16][20]\t Batch [300][550]\t Training Loss 0.0645\t Accuracy 0.8489\n",
      "Epoch [16][20]\t Batch [350][550]\t Training Loss 0.0646\t Accuracy 0.8478\n",
      "Epoch [16][20]\t Batch [400][550]\t Training Loss 0.0646\t Accuracy 0.8487\n",
      "Epoch [16][20]\t Batch [450][550]\t Training Loss 0.0647\t Accuracy 0.8489\n",
      "Epoch [16][20]\t Batch [500][550]\t Training Loss 0.0647\t Accuracy 0.8487\n",
      "\n",
      "Epoch [16]\t Average training loss 0.0647\t Average training accuracy 0.8489\n",
      "Epoch [16]\t Average validation loss 0.0618\t Average validation accuracy 0.8848\n",
      "\n",
      "Epoch [17][20]\t Batch [0][550]\t Training Loss 0.0618\t Accuracy 0.9000\n",
      "Epoch [17][20]\t Batch [50][550]\t Training Loss 0.0637\t Accuracy 0.8565\n",
      "Epoch [17][20]\t Batch [100][550]\t Training Loss 0.0639\t Accuracy 0.8550\n",
      "Epoch [17][20]\t Batch [150][550]\t Training Loss 0.0644\t Accuracy 0.8477\n",
      "Epoch [17][20]\t Batch [200][550]\t Training Loss 0.0644\t Accuracy 0.8480\n",
      "Epoch [17][20]\t Batch [250][550]\t Training Loss 0.0644\t Accuracy 0.8485\n",
      "Epoch [17][20]\t Batch [300][550]\t Training Loss 0.0644\t Accuracy 0.8489\n",
      "Epoch [17][20]\t Batch [350][550]\t Training Loss 0.0646\t Accuracy 0.8477\n",
      "Epoch [17][20]\t Batch [400][550]\t Training Loss 0.0646\t Accuracy 0.8486\n",
      "Epoch [17][20]\t Batch [450][550]\t Training Loss 0.0647\t Accuracy 0.8488\n",
      "Epoch [17][20]\t Batch [500][550]\t Training Loss 0.0647\t Accuracy 0.8486\n",
      "\n",
      "Epoch [17]\t Average training loss 0.0647\t Average training accuracy 0.8488\n",
      "Epoch [17]\t Average validation loss 0.0618\t Average validation accuracy 0.8850\n",
      "\n",
      "Epoch [18][20]\t Batch [0][550]\t Training Loss 0.0618\t Accuracy 0.9000\n",
      "Epoch [18][20]\t Batch [50][550]\t Training Loss 0.0637\t Accuracy 0.8567\n",
      "Epoch [18][20]\t Batch [100][550]\t Training Loss 0.0639\t Accuracy 0.8547\n",
      "Epoch [18][20]\t Batch [150][550]\t Training Loss 0.0644\t Accuracy 0.8477\n",
      "Epoch [18][20]\t Batch [200][550]\t Training Loss 0.0644\t Accuracy 0.8481\n",
      "Epoch [18][20]\t Batch [250][550]\t Training Loss 0.0644\t Accuracy 0.8486\n",
      "Epoch [18][20]\t Batch [300][550]\t Training Loss 0.0644\t Accuracy 0.8490\n",
      "Epoch [18][20]\t Batch [350][550]\t Training Loss 0.0646\t Accuracy 0.8478\n",
      "Epoch [18][20]\t Batch [400][550]\t Training Loss 0.0646\t Accuracy 0.8486\n",
      "Epoch [18][20]\t Batch [450][550]\t Training Loss 0.0647\t Accuracy 0.8489\n",
      "Epoch [18][20]\t Batch [500][550]\t Training Loss 0.0647\t Accuracy 0.8486\n",
      "\n",
      "Epoch [18]\t Average training loss 0.0647\t Average training accuracy 0.8488\n",
      "Epoch [18]\t Average validation loss 0.0618\t Average validation accuracy 0.8850\n",
      "\n",
      "Epoch [19][20]\t Batch [0][550]\t Training Loss 0.0618\t Accuracy 0.9000\n",
      "Epoch [19][20]\t Batch [50][550]\t Training Loss 0.0637\t Accuracy 0.8569\n",
      "Epoch [19][20]\t Batch [100][550]\t Training Loss 0.0639\t Accuracy 0.8549\n",
      "Epoch [19][20]\t Batch [150][550]\t Training Loss 0.0644\t Accuracy 0.8482\n",
      "Epoch [19][20]\t Batch [200][550]\t Training Loss 0.0644\t Accuracy 0.8486\n",
      "Epoch [19][20]\t Batch [250][550]\t Training Loss 0.0644\t Accuracy 0.8489\n",
      "Epoch [19][20]\t Batch [300][550]\t Training Loss 0.0644\t Accuracy 0.8494\n",
      "Epoch [19][20]\t Batch [350][550]\t Training Loss 0.0646\t Accuracy 0.8482\n",
      "Epoch [19][20]\t Batch [400][550]\t Training Loss 0.0646\t Accuracy 0.8490\n",
      "Epoch [19][20]\t Batch [450][550]\t Training Loss 0.0647\t Accuracy 0.8492\n",
      "Epoch [19][20]\t Batch [500][550]\t Training Loss 0.0647\t Accuracy 0.8490\n",
      "\n",
      "Epoch [19]\t Average training loss 0.0646\t Average training accuracy 0.8491\n",
      "Epoch [19]\t Average validation loss 0.0618\t Average validation accuracy 0.8852\n",
      "\n"
     ]
    }
   ],
   "source": [
    "sigmoidMLP, sigmoid_loss, sigmoid_acc = train(sigmoidMLP, criterion, sgd, data_train, max_epoch, batch_size, disp_freq)"
   ]
  },
  {
   "cell_type": "code",
   "execution_count": 9,
   "metadata": {},
   "outputs": [
    {
     "name": "stdout",
     "output_type": "stream",
     "text": [
      "Testing...\n",
      "The test accuracy is 0.8601.\n",
      "\n"
     ]
    }
   ],
   "source": [
    "test(sigmoidMLP, criterion, data_test, batch_size, disp_freq)"
   ]
  },
  {
   "cell_type": "markdown",
   "metadata": {},
   "source": [
    "## 1.2 MLP with Euclidean Loss and ReLU Activation Function\n",
    "Build and train a MLP contraining one hidden layer with 128 units using ReLU activation function and Euclidean loss function.\n",
    "\n",
    "### TODO\n",
    "Before executing the following code, you should complete **layers/relu_layer.py**."
   ]
  },
  {
   "cell_type": "code",
   "execution_count": 10,
   "metadata": {},
   "outputs": [],
   "source": [
    "from layers import ReLULayer\n",
    "\n",
    "reluMLP = Network()\n",
    "# TODO build ReLUMLP with FCLayer and ReLULayer\n",
    "reluMLP.add(FCLayer(784, 128))\n",
    "reluMLP.add(ReLULayer())\n",
    "reluMLP.add(FCLayer(128, 10))"
   ]
  },
  {
   "cell_type": "code",
   "execution_count": 11,
   "metadata": {
    "scrolled": true
   },
   "outputs": [
    {
     "name": "stdout",
     "output_type": "stream",
     "text": [
      "Epoch [0][20]\t Batch [0][550]\t Training Loss 0.2484\t Accuracy 0.0400\n",
      "Epoch [0][20]\t Batch [50][550]\t Training Loss 0.1690\t Accuracy 0.1116\n",
      "Epoch [0][20]\t Batch [100][550]\t Training Loss 0.1469\t Accuracy 0.2217\n",
      "Epoch [0][20]\t Batch [150][550]\t Training Loss 0.1347\t Accuracy 0.2977\n",
      "Epoch [0][20]\t Batch [200][550]\t Training Loss 0.1261\t Accuracy 0.3614\n",
      "Epoch [0][20]\t Batch [250][550]\t Training Loss 0.1194\t Accuracy 0.4138\n",
      "Epoch [0][20]\t Batch [300][550]\t Training Loss 0.1143\t Accuracy 0.4552\n",
      "Epoch [0][20]\t Batch [350][550]\t Training Loss 0.1103\t Accuracy 0.4875\n",
      "Epoch [0][20]\t Batch [400][550]\t Training Loss 0.1069\t Accuracy 0.5154\n",
      "Epoch [0][20]\t Batch [450][550]\t Training Loss 0.1041\t Accuracy 0.5393\n",
      "Epoch [0][20]\t Batch [500][550]\t Training Loss 0.1016\t Accuracy 0.5594\n",
      "\n",
      "Epoch [0]\t Average training loss 0.0993\t Average training accuracy 0.5786\n",
      "Epoch [0]\t Average validation loss 0.0734\t Average validation accuracy 0.8058\n",
      "\n",
      "Epoch [1][20]\t Batch [0][550]\t Training Loss 0.0736\t Accuracy 0.8000\n",
      "Epoch [1][20]\t Batch [50][550]\t Training Loss 0.0744\t Accuracy 0.7869\n",
      "Epoch [1][20]\t Batch [100][550]\t Training Loss 0.0736\t Accuracy 0.7935\n",
      "Epoch [1][20]\t Batch [150][550]\t Training Loss 0.0734\t Accuracy 0.7911\n",
      "Epoch [1][20]\t Batch [200][550]\t Training Loss 0.0728\t Accuracy 0.7948\n",
      "Epoch [1][20]\t Batch [250][550]\t Training Loss 0.0721\t Accuracy 0.8012\n",
      "Epoch [1][20]\t Batch [300][550]\t Training Loss 0.0715\t Accuracy 0.8040\n",
      "Epoch [1][20]\t Batch [350][550]\t Training Loss 0.0711\t Accuracy 0.8072\n",
      "Epoch [1][20]\t Batch [400][550]\t Training Loss 0.0706\t Accuracy 0.8107\n",
      "Epoch [1][20]\t Batch [450][550]\t Training Loss 0.0702\t Accuracy 0.8138\n",
      "Epoch [1][20]\t Batch [500][550]\t Training Loss 0.0698\t Accuracy 0.8160\n",
      "\n",
      "Epoch [1]\t Average training loss 0.0693\t Average training accuracy 0.8198\n",
      "Epoch [1]\t Average validation loss 0.0616\t Average validation accuracy 0.8802\n",
      "\n",
      "Epoch [2][20]\t Batch [0][550]\t Training Loss 0.0612\t Accuracy 0.8700\n",
      "Epoch [2][20]\t Batch [50][550]\t Training Loss 0.0632\t Accuracy 0.8598\n",
      "Epoch [2][20]\t Batch [100][550]\t Training Loss 0.0629\t Accuracy 0.8587\n",
      "Epoch [2][20]\t Batch [150][550]\t Training Loss 0.0631\t Accuracy 0.8558\n",
      "Epoch [2][20]\t Batch [200][550]\t Training Loss 0.0628\t Accuracy 0.8572\n",
      "Epoch [2][20]\t Batch [250][550]\t Training Loss 0.0625\t Accuracy 0.8601\n",
      "Epoch [2][20]\t Batch [300][550]\t Training Loss 0.0622\t Accuracy 0.8612\n",
      "Epoch [2][20]\t Batch [350][550]\t Training Loss 0.0620\t Accuracy 0.8624\n",
      "Epoch [2][20]\t Batch [400][550]\t Training Loss 0.0618\t Accuracy 0.8639\n",
      "Epoch [2][20]\t Batch [450][550]\t Training Loss 0.0615\t Accuracy 0.8651\n",
      "Epoch [2][20]\t Batch [500][550]\t Training Loss 0.0614\t Accuracy 0.8655\n",
      "\n",
      "Epoch [2]\t Average training loss 0.0610\t Average training accuracy 0.8674\n",
      "Epoch [2]\t Average validation loss 0.0552\t Average validation accuracy 0.9060\n",
      "\n",
      "Epoch [3][20]\t Batch [0][550]\t Training Loss 0.0550\t Accuracy 0.9000\n",
      "Epoch [3][20]\t Batch [50][550]\t Training Loss 0.0571\t Accuracy 0.8861\n",
      "Epoch [3][20]\t Batch [100][550]\t Training Loss 0.0570\t Accuracy 0.8850\n",
      "Epoch [3][20]\t Batch [150][550]\t Training Loss 0.0573\t Accuracy 0.8809\n",
      "Epoch [3][20]\t Batch [200][550]\t Training Loss 0.0571\t Accuracy 0.8814\n",
      "Epoch [3][20]\t Batch [250][550]\t Training Loss 0.0569\t Accuracy 0.8833\n",
      "Epoch [3][20]\t Batch [300][550]\t Training Loss 0.0567\t Accuracy 0.8840\n",
      "Epoch [3][20]\t Batch [350][550]\t Training Loss 0.0567\t Accuracy 0.8850\n",
      "Epoch [3][20]\t Batch [400][550]\t Training Loss 0.0565\t Accuracy 0.8860\n",
      "Epoch [3][20]\t Batch [450][550]\t Training Loss 0.0564\t Accuracy 0.8865\n",
      "Epoch [3][20]\t Batch [500][550]\t Training Loss 0.0563\t Accuracy 0.8866\n",
      "\n",
      "Epoch [3]\t Average training loss 0.0561\t Average training accuracy 0.8878\n",
      "Epoch [3]\t Average validation loss 0.0510\t Average validation accuracy 0.9228\n",
      "\n",
      "Epoch [4][20]\t Batch [0][550]\t Training Loss 0.0509\t Accuracy 0.9000\n",
      "Epoch [4][20]\t Batch [50][550]\t Training Loss 0.0529\t Accuracy 0.9033\n",
      "Epoch [4][20]\t Batch [100][550]\t Training Loss 0.0530\t Accuracy 0.9024\n",
      "Epoch [4][20]\t Batch [150][550]\t Training Loss 0.0534\t Accuracy 0.8979\n",
      "Epoch [4][20]\t Batch [200][550]\t Training Loss 0.0533\t Accuracy 0.8983\n",
      "Epoch [4][20]\t Batch [250][550]\t Training Loss 0.0531\t Accuracy 0.8992\n",
      "Epoch [4][20]\t Batch [300][550]\t Training Loss 0.0530\t Accuracy 0.8994\n",
      "Epoch [4][20]\t Batch [350][550]\t Training Loss 0.0530\t Accuracy 0.8997\n",
      "Epoch [4][20]\t Batch [400][550]\t Training Loss 0.0529\t Accuracy 0.9004\n",
      "Epoch [4][20]\t Batch [450][550]\t Training Loss 0.0528\t Accuracy 0.9007\n",
      "Epoch [4][20]\t Batch [500][550]\t Training Loss 0.0528\t Accuracy 0.9006\n",
      "\n",
      "Epoch [4]\t Average training loss 0.0526\t Average training accuracy 0.9012\n",
      "Epoch [4]\t Average validation loss 0.0480\t Average validation accuracy 0.9306\n",
      "\n",
      "Epoch [5][20]\t Batch [0][550]\t Training Loss 0.0478\t Accuracy 0.9200\n",
      "Epoch [5][20]\t Batch [50][550]\t Training Loss 0.0499\t Accuracy 0.9131\n",
      "Epoch [5][20]\t Batch [100][550]\t Training Loss 0.0500\t Accuracy 0.9117\n",
      "Epoch [5][20]\t Batch [150][550]\t Training Loss 0.0505\t Accuracy 0.9075\n",
      "Epoch [5][20]\t Batch [200][550]\t Training Loss 0.0504\t Accuracy 0.9079\n",
      "Epoch [5][20]\t Batch [250][550]\t Training Loss 0.0503\t Accuracy 0.9087\n",
      "Epoch [5][20]\t Batch [300][550]\t Training Loss 0.0503\t Accuracy 0.9086\n",
      "Epoch [5][20]\t Batch [350][550]\t Training Loss 0.0503\t Accuracy 0.9091\n",
      "Epoch [5][20]\t Batch [400][550]\t Training Loss 0.0502\t Accuracy 0.9096\n",
      "Epoch [5][20]\t Batch [450][550]\t Training Loss 0.0502\t Accuracy 0.9098\n",
      "Epoch [5][20]\t Batch [500][550]\t Training Loss 0.0502\t Accuracy 0.9094\n",
      "\n",
      "Epoch [5]\t Average training loss 0.0500\t Average training accuracy 0.9098\n",
      "Epoch [5]\t Average validation loss 0.0457\t Average validation accuracy 0.9364\n",
      "\n",
      "Epoch [6][20]\t Batch [0][550]\t Training Loss 0.0454\t Accuracy 0.9300\n",
      "Epoch [6][20]\t Batch [50][550]\t Training Loss 0.0476\t Accuracy 0.9216\n",
      "Epoch [6][20]\t Batch [100][550]\t Training Loss 0.0478\t Accuracy 0.9196\n",
      "Epoch [6][20]\t Batch [150][550]\t Training Loss 0.0484\t Accuracy 0.9162\n",
      "Epoch [6][20]\t Batch [200][550]\t Training Loss 0.0483\t Accuracy 0.9160\n",
      "Epoch [6][20]\t Batch [250][550]\t Training Loss 0.0482\t Accuracy 0.9165\n",
      "Epoch [6][20]\t Batch [300][550]\t Training Loss 0.0482\t Accuracy 0.9165\n",
      "Epoch [6][20]\t Batch [350][550]\t Training Loss 0.0482\t Accuracy 0.9164\n",
      "Epoch [6][20]\t Batch [400][550]\t Training Loss 0.0482\t Accuracy 0.9167\n",
      "Epoch [6][20]\t Batch [450][550]\t Training Loss 0.0481\t Accuracy 0.9170\n",
      "Epoch [6][20]\t Batch [500][550]\t Training Loss 0.0482\t Accuracy 0.9164\n",
      "\n",
      "Epoch [6]\t Average training loss 0.0480\t Average training accuracy 0.9166\n",
      "Epoch [6]\t Average validation loss 0.0440\t Average validation accuracy 0.9402\n",
      "\n",
      "Epoch [7][20]\t Batch [0][550]\t Training Loss 0.0435\t Accuracy 0.9300\n",
      "Epoch [7][20]\t Batch [50][550]\t Training Loss 0.0459\t Accuracy 0.9275\n",
      "Epoch [7][20]\t Batch [100][550]\t Training Loss 0.0462\t Accuracy 0.9242\n",
      "Epoch [7][20]\t Batch [150][550]\t Training Loss 0.0467\t Accuracy 0.9214\n",
      "Epoch [7][20]\t Batch [200][550]\t Training Loss 0.0466\t Accuracy 0.9210\n",
      "Epoch [7][20]\t Batch [250][550]\t Training Loss 0.0465\t Accuracy 0.9212\n",
      "Epoch [7][20]\t Batch [300][550]\t Training Loss 0.0466\t Accuracy 0.9213\n",
      "Epoch [7][20]\t Batch [350][550]\t Training Loss 0.0466\t Accuracy 0.9209\n",
      "Epoch [7][20]\t Batch [400][550]\t Training Loss 0.0466\t Accuracy 0.9211\n",
      "Epoch [7][20]\t Batch [450][550]\t Training Loss 0.0466\t Accuracy 0.9214\n",
      "Epoch [7][20]\t Batch [500][550]\t Training Loss 0.0466\t Accuracy 0.9209\n",
      "\n",
      "Epoch [7]\t Average training loss 0.0465\t Average training accuracy 0.9210\n",
      "Epoch [7]\t Average validation loss 0.0426\t Average validation accuracy 0.9442\n",
      "\n",
      "Epoch [8][20]\t Batch [0][550]\t Training Loss 0.0420\t Accuracy 0.9400\n",
      "Epoch [8][20]\t Batch [50][550]\t Training Loss 0.0445\t Accuracy 0.9302\n",
      "Epoch [8][20]\t Batch [100][550]\t Training Loss 0.0448\t Accuracy 0.9271\n",
      "Epoch [8][20]\t Batch [150][550]\t Training Loss 0.0454\t Accuracy 0.9250\n",
      "Epoch [8][20]\t Batch [200][550]\t Training Loss 0.0453\t Accuracy 0.9250\n",
      "Epoch [8][20]\t Batch [250][550]\t Training Loss 0.0452\t Accuracy 0.9252\n",
      "Epoch [8][20]\t Batch [300][550]\t Training Loss 0.0453\t Accuracy 0.9254\n",
      "Epoch [8][20]\t Batch [350][550]\t Training Loss 0.0453\t Accuracy 0.9250\n",
      "Epoch [8][20]\t Batch [400][550]\t Training Loss 0.0453\t Accuracy 0.9252\n",
      "Epoch [8][20]\t Batch [450][550]\t Training Loss 0.0453\t Accuracy 0.9256\n",
      "Epoch [8][20]\t Batch [500][550]\t Training Loss 0.0454\t Accuracy 0.9249\n"
     ]
    },
    {
     "name": "stdout",
     "output_type": "stream",
     "text": [
      "\n",
      "Epoch [8]\t Average training loss 0.0453\t Average training accuracy 0.9249\n",
      "Epoch [8]\t Average validation loss 0.0415\t Average validation accuracy 0.9474\n",
      "\n",
      "Epoch [9][20]\t Batch [0][550]\t Training Loss 0.0408\t Accuracy 0.9400\n",
      "Epoch [9][20]\t Batch [50][550]\t Training Loss 0.0434\t Accuracy 0.9339\n",
      "Epoch [9][20]\t Batch [100][550]\t Training Loss 0.0438\t Accuracy 0.9309\n",
      "Epoch [9][20]\t Batch [150][550]\t Training Loss 0.0443\t Accuracy 0.9289\n",
      "Epoch [9][20]\t Batch [200][550]\t Training Loss 0.0442\t Accuracy 0.9295\n",
      "Epoch [9][20]\t Batch [250][550]\t Training Loss 0.0442\t Accuracy 0.9296\n",
      "Epoch [9][20]\t Batch [300][550]\t Training Loss 0.0442\t Accuracy 0.9295\n",
      "Epoch [9][20]\t Batch [350][550]\t Training Loss 0.0443\t Accuracy 0.9290\n",
      "Epoch [9][20]\t Batch [400][550]\t Training Loss 0.0443\t Accuracy 0.9289\n",
      "Epoch [9][20]\t Batch [450][550]\t Training Loss 0.0443\t Accuracy 0.9292\n",
      "Epoch [9][20]\t Batch [500][550]\t Training Loss 0.0444\t Accuracy 0.9284\n",
      "\n",
      "Epoch [9]\t Average training loss 0.0443\t Average training accuracy 0.9283\n",
      "Epoch [9]\t Average validation loss 0.0406\t Average validation accuracy 0.9498\n",
      "\n",
      "Epoch [10][20]\t Batch [0][550]\t Training Loss 0.0398\t Accuracy 0.9500\n",
      "Epoch [10][20]\t Batch [50][550]\t Training Loss 0.0425\t Accuracy 0.9378\n",
      "Epoch [10][20]\t Batch [100][550]\t Training Loss 0.0429\t Accuracy 0.9340\n",
      "Epoch [10][20]\t Batch [150][550]\t Training Loss 0.0434\t Accuracy 0.9318\n",
      "Epoch [10][20]\t Batch [200][550]\t Training Loss 0.0433\t Accuracy 0.9320\n",
      "Epoch [10][20]\t Batch [250][550]\t Training Loss 0.0433\t Accuracy 0.9322\n",
      "Epoch [10][20]\t Batch [300][550]\t Training Loss 0.0433\t Accuracy 0.9323\n",
      "Epoch [10][20]\t Batch [350][550]\t Training Loss 0.0434\t Accuracy 0.9317\n",
      "Epoch [10][20]\t Batch [400][550]\t Training Loss 0.0434\t Accuracy 0.9315\n",
      "Epoch [10][20]\t Batch [450][550]\t Training Loss 0.0434\t Accuracy 0.9316\n",
      "Epoch [10][20]\t Batch [500][550]\t Training Loss 0.0435\t Accuracy 0.9308\n",
      "\n",
      "Epoch [10]\t Average training loss 0.0434\t Average training accuracy 0.9308\n",
      "Epoch [10]\t Average validation loss 0.0398\t Average validation accuracy 0.9526\n",
      "\n",
      "Epoch [11][20]\t Batch [0][550]\t Training Loss 0.0390\t Accuracy 0.9500\n",
      "Epoch [11][20]\t Batch [50][550]\t Training Loss 0.0417\t Accuracy 0.9390\n",
      "Epoch [11][20]\t Batch [100][550]\t Training Loss 0.0421\t Accuracy 0.9352\n",
      "Epoch [11][20]\t Batch [150][550]\t Training Loss 0.0426\t Accuracy 0.9338\n",
      "Epoch [11][20]\t Batch [200][550]\t Training Loss 0.0425\t Accuracy 0.9343\n",
      "Epoch [11][20]\t Batch [250][550]\t Training Loss 0.0425\t Accuracy 0.9344\n",
      "Epoch [11][20]\t Batch [300][550]\t Training Loss 0.0426\t Accuracy 0.9346\n",
      "Epoch [11][20]\t Batch [350][550]\t Training Loss 0.0426\t Accuracy 0.9343\n",
      "Epoch [11][20]\t Batch [400][550]\t Training Loss 0.0427\t Accuracy 0.9341\n",
      "Epoch [11][20]\t Batch [450][550]\t Training Loss 0.0427\t Accuracy 0.9342\n",
      "Epoch [11][20]\t Batch [500][550]\t Training Loss 0.0428\t Accuracy 0.9334\n",
      "\n",
      "Epoch [11]\t Average training loss 0.0427\t Average training accuracy 0.9333\n",
      "Epoch [11]\t Average validation loss 0.0391\t Average validation accuracy 0.9560\n",
      "\n",
      "Epoch [12][20]\t Batch [0][550]\t Training Loss 0.0383\t Accuracy 0.9500\n",
      "Epoch [12][20]\t Batch [50][550]\t Training Loss 0.0410\t Accuracy 0.9416\n",
      "Epoch [12][20]\t Batch [100][550]\t Training Loss 0.0414\t Accuracy 0.9373\n",
      "Epoch [12][20]\t Batch [150][550]\t Training Loss 0.0419\t Accuracy 0.9359\n",
      "Epoch [12][20]\t Batch [200][550]\t Training Loss 0.0419\t Accuracy 0.9365\n",
      "Epoch [12][20]\t Batch [250][550]\t Training Loss 0.0418\t Accuracy 0.9367\n",
      "Epoch [12][20]\t Batch [300][550]\t Training Loss 0.0419\t Accuracy 0.9368\n",
      "Epoch [12][20]\t Batch [350][550]\t Training Loss 0.0420\t Accuracy 0.9365\n",
      "Epoch [12][20]\t Batch [400][550]\t Training Loss 0.0420\t Accuracy 0.9363\n",
      "Epoch [12][20]\t Batch [450][550]\t Training Loss 0.0420\t Accuracy 0.9363\n",
      "Epoch [12][20]\t Batch [500][550]\t Training Loss 0.0421\t Accuracy 0.9354\n",
      "\n",
      "Epoch [12]\t Average training loss 0.0420\t Average training accuracy 0.9353\n",
      "Epoch [12]\t Average validation loss 0.0385\t Average validation accuracy 0.9570\n",
      "\n",
      "Epoch [13][20]\t Batch [0][550]\t Training Loss 0.0378\t Accuracy 0.9500\n",
      "Epoch [13][20]\t Batch [50][550]\t Training Loss 0.0404\t Accuracy 0.9439\n",
      "Epoch [13][20]\t Batch [100][550]\t Training Loss 0.0409\t Accuracy 0.9389\n",
      "Epoch [13][20]\t Batch [150][550]\t Training Loss 0.0414\t Accuracy 0.9377\n",
      "Epoch [13][20]\t Batch [200][550]\t Training Loss 0.0413\t Accuracy 0.9386\n",
      "Epoch [13][20]\t Batch [250][550]\t Training Loss 0.0412\t Accuracy 0.9388\n",
      "Epoch [13][20]\t Batch [300][550]\t Training Loss 0.0413\t Accuracy 0.9391\n",
      "Epoch [13][20]\t Batch [350][550]\t Training Loss 0.0414\t Accuracy 0.9387\n",
      "Epoch [13][20]\t Batch [400][550]\t Training Loss 0.0414\t Accuracy 0.9384\n",
      "Epoch [13][20]\t Batch [450][550]\t Training Loss 0.0415\t Accuracy 0.9384\n",
      "Epoch [13][20]\t Batch [500][550]\t Training Loss 0.0415\t Accuracy 0.9374\n",
      "\n",
      "Epoch [13]\t Average training loss 0.0415\t Average training accuracy 0.9373\n",
      "Epoch [13]\t Average validation loss 0.0380\t Average validation accuracy 0.9598\n",
      "\n",
      "Epoch [14][20]\t Batch [0][550]\t Training Loss 0.0373\t Accuracy 0.9500\n",
      "Epoch [14][20]\t Batch [50][550]\t Training Loss 0.0399\t Accuracy 0.9455\n",
      "Epoch [14][20]\t Batch [100][550]\t Training Loss 0.0403\t Accuracy 0.9410\n",
      "Epoch [14][20]\t Batch [150][550]\t Training Loss 0.0408\t Accuracy 0.9397\n",
      "Epoch [14][20]\t Batch [200][550]\t Training Loss 0.0408\t Accuracy 0.9407\n",
      "Epoch [14][20]\t Batch [250][550]\t Training Loss 0.0407\t Accuracy 0.9407\n",
      "Epoch [14][20]\t Batch [300][550]\t Training Loss 0.0408\t Accuracy 0.9408\n",
      "Epoch [14][20]\t Batch [350][550]\t Training Loss 0.0409\t Accuracy 0.9403\n",
      "Epoch [14][20]\t Batch [400][550]\t Training Loss 0.0409\t Accuracy 0.9398\n",
      "Epoch [14][20]\t Batch [450][550]\t Training Loss 0.0409\t Accuracy 0.9397\n",
      "Epoch [14][20]\t Batch [500][550]\t Training Loss 0.0410\t Accuracy 0.9388\n",
      "\n",
      "Epoch [14]\t Average training loss 0.0410\t Average training accuracy 0.9387\n",
      "Epoch [14]\t Average validation loss 0.0376\t Average validation accuracy 0.9608\n",
      "\n",
      "Epoch [15][20]\t Batch [0][550]\t Training Loss 0.0369\t Accuracy 0.9500\n",
      "Epoch [15][20]\t Batch [50][550]\t Training Loss 0.0394\t Accuracy 0.9476\n",
      "Epoch [15][20]\t Batch [100][550]\t Training Loss 0.0399\t Accuracy 0.9429\n",
      "Epoch [15][20]\t Batch [150][550]\t Training Loss 0.0404\t Accuracy 0.9413\n",
      "Epoch [15][20]\t Batch [200][550]\t Training Loss 0.0403\t Accuracy 0.9423\n",
      "Epoch [15][20]\t Batch [250][550]\t Training Loss 0.0402\t Accuracy 0.9421\n",
      "Epoch [15][20]\t Batch [300][550]\t Training Loss 0.0403\t Accuracy 0.9421\n",
      "Epoch [15][20]\t Batch [350][550]\t Training Loss 0.0404\t Accuracy 0.9418\n",
      "Epoch [15][20]\t Batch [400][550]\t Training Loss 0.0405\t Accuracy 0.9414\n",
      "Epoch [15][20]\t Batch [450][550]\t Training Loss 0.0405\t Accuracy 0.9412\n",
      "Epoch [15][20]\t Batch [500][550]\t Training Loss 0.0406\t Accuracy 0.9403\n",
      "\n",
      "Epoch [15]\t Average training loss 0.0405\t Average training accuracy 0.9402\n",
      "Epoch [15]\t Average validation loss 0.0372\t Average validation accuracy 0.9610\n",
      "\n",
      "Epoch [16][20]\t Batch [0][550]\t Training Loss 0.0366\t Accuracy 0.9600\n",
      "Epoch [16][20]\t Batch [50][550]\t Training Loss 0.0390\t Accuracy 0.9490\n",
      "Epoch [16][20]\t Batch [100][550]\t Training Loss 0.0395\t Accuracy 0.9443\n",
      "Epoch [16][20]\t Batch [150][550]\t Training Loss 0.0399\t Accuracy 0.9426\n",
      "Epoch [16][20]\t Batch [200][550]\t Training Loss 0.0399\t Accuracy 0.9436\n",
      "Epoch [16][20]\t Batch [250][550]\t Training Loss 0.0398\t Accuracy 0.9433\n",
      "Epoch [16][20]\t Batch [300][550]\t Training Loss 0.0399\t Accuracy 0.9431\n",
      "Epoch [16][20]\t Batch [350][550]\t Training Loss 0.0400\t Accuracy 0.9429\n",
      "Epoch [16][20]\t Batch [400][550]\t Training Loss 0.0400\t Accuracy 0.9425\n",
      "Epoch [16][20]\t Batch [450][550]\t Training Loss 0.0401\t Accuracy 0.9423\n",
      "Epoch [16][20]\t Batch [500][550]\t Training Loss 0.0402\t Accuracy 0.9414\n",
      "\n",
      "Epoch [16]\t Average training loss 0.0401\t Average training accuracy 0.9413\n",
      "Epoch [16]\t Average validation loss 0.0368\t Average validation accuracy 0.9616\n",
      "\n",
      "Epoch [17][20]\t Batch [0][550]\t Training Loss 0.0363\t Accuracy 0.9600\n",
      "Epoch [17][20]\t Batch [50][550]\t Training Loss 0.0386\t Accuracy 0.9502\n",
      "Epoch [17][20]\t Batch [100][550]\t Training Loss 0.0391\t Accuracy 0.9448\n",
      "Epoch [17][20]\t Batch [150][550]\t Training Loss 0.0396\t Accuracy 0.9435\n",
      "Epoch [17][20]\t Batch [200][550]\t Training Loss 0.0395\t Accuracy 0.9446\n",
      "Epoch [17][20]\t Batch [250][550]\t Training Loss 0.0394\t Accuracy 0.9443\n",
      "Epoch [17][20]\t Batch [300][550]\t Training Loss 0.0395\t Accuracy 0.9440\n",
      "Epoch [17][20]\t Batch [350][550]\t Training Loss 0.0396\t Accuracy 0.9437\n"
     ]
    },
    {
     "name": "stdout",
     "output_type": "stream",
     "text": [
      "Epoch [17][20]\t Batch [400][550]\t Training Loss 0.0397\t Accuracy 0.9433\n",
      "Epoch [17][20]\t Batch [450][550]\t Training Loss 0.0397\t Accuracy 0.9431\n",
      "Epoch [17][20]\t Batch [500][550]\t Training Loss 0.0398\t Accuracy 0.9423\n",
      "\n",
      "Epoch [17]\t Average training loss 0.0397\t Average training accuracy 0.9422\n",
      "Epoch [17]\t Average validation loss 0.0365\t Average validation accuracy 0.9616\n",
      "\n",
      "Epoch [18][20]\t Batch [0][550]\t Training Loss 0.0360\t Accuracy 0.9600\n",
      "Epoch [18][20]\t Batch [50][550]\t Training Loss 0.0382\t Accuracy 0.9506\n",
      "Epoch [18][20]\t Batch [100][550]\t Training Loss 0.0387\t Accuracy 0.9455\n",
      "Epoch [18][20]\t Batch [150][550]\t Training Loss 0.0392\t Accuracy 0.9445\n",
      "Epoch [18][20]\t Batch [200][550]\t Training Loss 0.0391\t Accuracy 0.9455\n",
      "Epoch [18][20]\t Batch [250][550]\t Training Loss 0.0391\t Accuracy 0.9453\n",
      "Epoch [18][20]\t Batch [300][550]\t Training Loss 0.0392\t Accuracy 0.9450\n",
      "Epoch [18][20]\t Batch [350][550]\t Training Loss 0.0393\t Accuracy 0.9448\n",
      "Epoch [18][20]\t Batch [400][550]\t Training Loss 0.0393\t Accuracy 0.9445\n",
      "Epoch [18][20]\t Batch [450][550]\t Training Loss 0.0394\t Accuracy 0.9443\n",
      "Epoch [18][20]\t Batch [500][550]\t Training Loss 0.0395\t Accuracy 0.9434\n",
      "\n",
      "Epoch [18]\t Average training loss 0.0394\t Average training accuracy 0.9434\n",
      "Epoch [18]\t Average validation loss 0.0362\t Average validation accuracy 0.9624\n",
      "\n",
      "Epoch [19][20]\t Batch [0][550]\t Training Loss 0.0357\t Accuracy 0.9600\n",
      "Epoch [19][20]\t Batch [50][550]\t Training Loss 0.0379\t Accuracy 0.9510\n",
      "Epoch [19][20]\t Batch [100][550]\t Training Loss 0.0384\t Accuracy 0.9462\n",
      "Epoch [19][20]\t Batch [150][550]\t Training Loss 0.0389\t Accuracy 0.9456\n",
      "Epoch [19][20]\t Batch [200][550]\t Training Loss 0.0388\t Accuracy 0.9464\n",
      "Epoch [19][20]\t Batch [250][550]\t Training Loss 0.0388\t Accuracy 0.9461\n",
      "Epoch [19][20]\t Batch [300][550]\t Training Loss 0.0389\t Accuracy 0.9458\n",
      "Epoch [19][20]\t Batch [350][550]\t Training Loss 0.0390\t Accuracy 0.9456\n",
      "Epoch [19][20]\t Batch [400][550]\t Training Loss 0.0390\t Accuracy 0.9453\n",
      "Epoch [19][20]\t Batch [450][550]\t Training Loss 0.0390\t Accuracy 0.9452\n",
      "Epoch [19][20]\t Batch [500][550]\t Training Loss 0.0391\t Accuracy 0.9444\n",
      "\n",
      "Epoch [19]\t Average training loss 0.0391\t Average training accuracy 0.9444\n",
      "Epoch [19]\t Average validation loss 0.0359\t Average validation accuracy 0.9632\n",
      "\n"
     ]
    }
   ],
   "source": [
    "reluMLP, relu_loss, relu_acc = train(reluMLP, criterion, sgd, data_train, max_epoch, batch_size, disp_freq)"
   ]
  },
  {
   "cell_type": "code",
   "execution_count": 12,
   "metadata": {},
   "outputs": [
    {
     "name": "stdout",
     "output_type": "stream",
     "text": [
      "Testing...\n",
      "The test accuracy is 0.9495.\n",
      "\n"
     ]
    }
   ],
   "source": [
    "test(reluMLP, criterion, data_test, batch_size, disp_freq)"
   ]
  },
  {
   "cell_type": "markdown",
   "metadata": {},
   "source": [
    "## Plot"
   ]
  },
  {
   "cell_type": "code",
   "execution_count": 13,
   "metadata": {},
   "outputs": [
    {
     "data": {
      "image/png": "[encoded data removed]",
      "text/plain": [
       "<Figure size 432x288 with 1 Axes>"
      ]
     },
     "metadata": {
      "needs_background": "light"
     },
     "output_type": "display_data"
    },
    {
     "data": {
      "image/png": "[encoded data removed]",
      "text/plain": [
       "<Figure size 432x288 with 1 Axes>"
      ]
     },
     "metadata": {
      "needs_background": "light"
     },
     "output_type": "display_data"
    }
   ],
   "source": [
    "plot_loss_and_acc({'Sigmoid': [sigmoid_loss, sigmoid_acc],\n",
    "                   'relu': [relu_loss, relu_acc]})"
   ]
  },
  {
   "cell_type": "markdown",
   "metadata": {},
   "source": [
    "## 2. MLP with Softmax Cross-Entropy Loss\n",
    "In part-2, you need to train a MLP with **Softmax Cross-Entropy Loss**.  \n",
    "**Sigmoid Activation Function** and **ReLU Activation Function** will be used respectively again.\n",
    "### TODO\n",
    "Before executing the following code, you should complete **criterion/softmax_cross_entropy_loss.py**."
   ]
  },
  {
   "cell_type": "code",
   "execution_count": 14,
   "metadata": {},
   "outputs": [],
   "source": [
    "from criterion import SoftmaxCrossEntropyLossLayer\n",
    "\n",
    "criterion = SoftmaxCrossEntropyLossLayer()\n",
    "\n",
    "sgd = SGD(learning_rate_SGD, weight_decay)"
   ]
  },
  {
   "cell_type": "markdown",
   "metadata": {},
   "source": [
    "## 2.1 MLP with Softmax Cross-Entropy Loss and Sigmoid Activation Function\n",
    "Build and train a MLP contraining one hidden layer with 128 units using Sigmoid activation function and Softmax cross-entropy loss function."
   ]
  },
  {
   "cell_type": "code",
   "execution_count": 15,
   "metadata": {},
   "outputs": [],
   "source": [
    "sigmoidMLP = Network()\n",
    "# Build MLP with FCLayer and SigmoidLayer\n",
    "# 128 is the number of hidden units, you can change by your own\n",
    "sigmoidMLP.add(FCLayer(784, 128))\n",
    "sigmoidMLP.add(SigmoidLayer())\n",
    "sigmoidMLP.add(FCLayer(128, 10))"
   ]
  },
  {
   "cell_type": "markdown",
   "metadata": {},
   "source": [
    "### Train"
   ]
  },
  {
   "cell_type": "code",
   "execution_count": 16,
   "metadata": {
    "scrolled": true
   },
   "outputs": [
    {
     "ename": "MemoryError",
     "evalue": "bad allocation",
     "output_type": "error",
     "traceback": [
      "\u001b[1;31m---------------------------------------------------------------------------\u001b[0m",
      "\u001b[1;31mMemoryError\u001b[0m                               Traceback (most recent call last)",
      "\u001b[1;32m<ipython-input-16-e0536a27d21f>\u001b[0m in \u001b[0;36m<module>\u001b[1;34m\u001b[0m\n\u001b[1;32m----> 1\u001b[1;33m \u001b[0msigmoidMLP\u001b[0m\u001b[1;33m,\u001b[0m \u001b[0msigmoid_loss\u001b[0m\u001b[1;33m,\u001b[0m \u001b[0msigmoid_acc\u001b[0m \u001b[1;33m=\u001b[0m \u001b[0mtrain\u001b[0m\u001b[1;33m(\u001b[0m\u001b[0msigmoidMLP\u001b[0m\u001b[1;33m,\u001b[0m \u001b[0mcriterion\u001b[0m\u001b[1;33m,\u001b[0m \u001b[0msgd\u001b[0m\u001b[1;33m,\u001b[0m \u001b[0mdata_train\u001b[0m\u001b[1;33m,\u001b[0m \u001b[0mmax_epoch\u001b[0m\u001b[1;33m,\u001b[0m \u001b[0mbatch_size\u001b[0m\u001b[1;33m,\u001b[0m \u001b[0mdisp_freq\u001b[0m\u001b[1;33m)\u001b[0m\u001b[1;33m\u001b[0m\u001b[1;33m\u001b[0m\u001b[0m\n\u001b[0m",
      "\u001b[1;32m~\\Documents\\Lecture Note\\Deep learning\\hw\\homework-2\\homework2-mlp\\solver.py\u001b[0m in \u001b[0;36mtrain\u001b[1;34m(model, criterion, optimizer, dataset, max_epoch, batch_size, disp_freq)\u001b[0m\n\u001b[0;32m     24\u001b[0m                 \u001b[0mtrain_get_next\u001b[0m \u001b[1;33m=\u001b[0m \u001b[0mtrain_data\u001b[0m\u001b[1;33m.\u001b[0m\u001b[0mmake_one_shot_iterator\u001b[0m\u001b[1;33m(\u001b[0m\u001b[1;33m)\u001b[0m\u001b[1;33m.\u001b[0m\u001b[0mget_next\u001b[0m\u001b[1;33m(\u001b[0m\u001b[1;33m)\u001b[0m\u001b[1;33m\u001b[0m\u001b[1;33m\u001b[0m\u001b[0m\n\u001b[0;32m     25\u001b[0m \u001b[1;33m\u001b[0m\u001b[0m\n\u001b[1;32m---> 26\u001b[1;33m                 \u001b[0mtmp3\u001b[0m\u001b[1;33m,\u001b[0m \u001b[0mtmp4\u001b[0m \u001b[1;33m=\u001b[0m \u001b[0msess\u001b[0m\u001b[1;33m.\u001b[0m\u001b[0mrun\u001b[0m\u001b[1;33m(\u001b[0m\u001b[0mget_next\u001b[0m\u001b[1;33m)\u001b[0m\u001b[1;33m\u001b[0m\u001b[1;33m\u001b[0m\u001b[0m\n\u001b[0m\u001b[0;32m     27\u001b[0m                 \u001b[0mtmp3\u001b[0m \u001b[1;33m=\u001b[0m \u001b[0mtf\u001b[0m\u001b[1;33m.\u001b[0m\u001b[0mdata\u001b[0m\u001b[1;33m.\u001b[0m\u001b[0mDataset\u001b[0m\u001b[1;33m.\u001b[0m\u001b[0mfrom_tensor_slices\u001b[0m\u001b[1;33m(\u001b[0m\u001b[0mtmp3\u001b[0m\u001b[1;33m)\u001b[0m\u001b[1;33m\u001b[0m\u001b[1;33m\u001b[0m\u001b[0m\n\u001b[0;32m     28\u001b[0m                 \u001b[0mtmp4\u001b[0m \u001b[1;33m=\u001b[0m \u001b[0mtf\u001b[0m\u001b[1;33m.\u001b[0m\u001b[0mdata\u001b[0m\u001b[1;33m.\u001b[0m\u001b[0mDataset\u001b[0m\u001b[1;33m.\u001b[0m\u001b[0mfrom_tensor_slices\u001b[0m\u001b[1;33m(\u001b[0m\u001b[0mtmp4\u001b[0m\u001b[1;33m)\u001b[0m\u001b[1;33m\u001b[0m\u001b[1;33m\u001b[0m\u001b[0m\n",
      "\u001b[1;32m~\\.conda\\envs\\logit\\lib\\site-packages\\tensorflow\\python\\client\\session.py\u001b[0m in \u001b[0;36mrun\u001b[1;34m(self, fetches, feed_dict, options, run_metadata)\u001b[0m\n\u001b[0;32m    955\u001b[0m \u001b[1;33m\u001b[0m\u001b[0m\n\u001b[0;32m    956\u001b[0m     \u001b[1;32mtry\u001b[0m\u001b[1;33m:\u001b[0m\u001b[1;33m\u001b[0m\u001b[1;33m\u001b[0m\u001b[0m\n\u001b[1;32m--> 957\u001b[1;33m       result = self._run(None, fetches, feed_dict, options_ptr,\n\u001b[0m\u001b[0;32m    958\u001b[0m                          run_metadata_ptr)\n\u001b[0;32m    959\u001b[0m       \u001b[1;32mif\u001b[0m \u001b[0mrun_metadata\u001b[0m\u001b[1;33m:\u001b[0m\u001b[1;33m\u001b[0m\u001b[1;33m\u001b[0m\u001b[0m\n",
      "\u001b[1;32m~\\.conda\\envs\\logit\\lib\\site-packages\\tensorflow\\python\\client\\session.py\u001b[0m in \u001b[0;36m_run\u001b[1;34m(self, handle, fetches, feed_dict, options, run_metadata)\u001b[0m\n\u001b[0;32m   1178\u001b[0m     \u001b[1;31m# or if the call is a partial run that specifies feeds.\u001b[0m\u001b[1;33m\u001b[0m\u001b[1;33m\u001b[0m\u001b[1;33m\u001b[0m\u001b[0m\n\u001b[0;32m   1179\u001b[0m     \u001b[1;32mif\u001b[0m \u001b[0mfinal_fetches\u001b[0m \u001b[1;32mor\u001b[0m \u001b[0mfinal_targets\u001b[0m \u001b[1;32mor\u001b[0m \u001b[1;33m(\u001b[0m\u001b[0mhandle\u001b[0m \u001b[1;32mand\u001b[0m \u001b[0mfeed_dict_tensor\u001b[0m\u001b[1;33m)\u001b[0m\u001b[1;33m:\u001b[0m\u001b[1;33m\u001b[0m\u001b[1;33m\u001b[0m\u001b[0m\n\u001b[1;32m-> 1180\u001b[1;33m       results = self._do_run(handle, final_targets, final_fetches,\n\u001b[0m\u001b[0;32m   1181\u001b[0m                              feed_dict_tensor, options, run_metadata)\n\u001b[0;32m   1182\u001b[0m     \u001b[1;32melse\u001b[0m\u001b[1;33m:\u001b[0m\u001b[1;33m\u001b[0m\u001b[1;33m\u001b[0m\u001b[0m\n",
      "\u001b[1;32m~\\.conda\\envs\\logit\\lib\\site-packages\\tensorflow\\python\\client\\session.py\u001b[0m in \u001b[0;36m_do_run\u001b[1;34m(self, handle, target_list, fetch_list, feed_dict, options, run_metadata)\u001b[0m\n\u001b[0;32m   1356\u001b[0m \u001b[1;33m\u001b[0m\u001b[0m\n\u001b[0;32m   1357\u001b[0m     \u001b[1;32mif\u001b[0m \u001b[0mhandle\u001b[0m \u001b[1;32mis\u001b[0m \u001b[1;32mNone\u001b[0m\u001b[1;33m:\u001b[0m\u001b[1;33m\u001b[0m\u001b[1;33m\u001b[0m\u001b[0m\n\u001b[1;32m-> 1358\u001b[1;33m       return self._do_call(_run_fn, feeds, fetches, targets, options,\n\u001b[0m\u001b[0;32m   1359\u001b[0m                            run_metadata)\n\u001b[0;32m   1360\u001b[0m     \u001b[1;32melse\u001b[0m\u001b[1;33m:\u001b[0m\u001b[1;33m\u001b[0m\u001b[1;33m\u001b[0m\u001b[0m\n",
      "\u001b[1;32m~\\.conda\\envs\\logit\\lib\\site-packages\\tensorflow\\python\\client\\session.py\u001b[0m in \u001b[0;36m_do_call\u001b[1;34m(self, fn, *args)\u001b[0m\n\u001b[0;32m   1363\u001b[0m   \u001b[1;32mdef\u001b[0m \u001b[0m_do_call\u001b[0m\u001b[1;33m(\u001b[0m\u001b[0mself\u001b[0m\u001b[1;33m,\u001b[0m \u001b[0mfn\u001b[0m\u001b[1;33m,\u001b[0m \u001b[1;33m*\u001b[0m\u001b[0margs\u001b[0m\u001b[1;33m)\u001b[0m\u001b[1;33m:\u001b[0m\u001b[1;33m\u001b[0m\u001b[1;33m\u001b[0m\u001b[0m\n\u001b[0;32m   1364\u001b[0m     \u001b[1;32mtry\u001b[0m\u001b[1;33m:\u001b[0m\u001b[1;33m\u001b[0m\u001b[1;33m\u001b[0m\u001b[0m\n\u001b[1;32m-> 1365\u001b[1;33m       \u001b[1;32mreturn\u001b[0m \u001b[0mfn\u001b[0m\u001b[1;33m(\u001b[0m\u001b[1;33m*\u001b[0m\u001b[0margs\u001b[0m\u001b[1;33m)\u001b[0m\u001b[1;33m\u001b[0m\u001b[1;33m\u001b[0m\u001b[0m\n\u001b[0m\u001b[0;32m   1366\u001b[0m     \u001b[1;32mexcept\u001b[0m \u001b[0merrors\u001b[0m\u001b[1;33m.\u001b[0m\u001b[0mOpError\u001b[0m \u001b[1;32mas\u001b[0m \u001b[0me\u001b[0m\u001b[1;33m:\u001b[0m\u001b[1;33m\u001b[0m\u001b[1;33m\u001b[0m\u001b[0m\n\u001b[0;32m   1367\u001b[0m       \u001b[0mmessage\u001b[0m \u001b[1;33m=\u001b[0m \u001b[0mcompat\u001b[0m\u001b[1;33m.\u001b[0m\u001b[0mas_text\u001b[0m\u001b[1;33m(\u001b[0m\u001b[0me\u001b[0m\u001b[1;33m.\u001b[0m\u001b[0mmessage\u001b[0m\u001b[1;33m)\u001b[0m\u001b[1;33m\u001b[0m\u001b[1;33m\u001b[0m\u001b[0m\n",
      "\u001b[1;32m~\\.conda\\envs\\logit\\lib\\site-packages\\tensorflow\\python\\client\\session.py\u001b[0m in \u001b[0;36m_run_fn\u001b[1;34m(feed_dict, fetch_list, target_list, options, run_metadata)\u001b[0m\n\u001b[0;32m   1346\u001b[0m     \u001b[1;32mdef\u001b[0m \u001b[0m_run_fn\u001b[0m\u001b[1;33m(\u001b[0m\u001b[0mfeed_dict\u001b[0m\u001b[1;33m,\u001b[0m \u001b[0mfetch_list\u001b[0m\u001b[1;33m,\u001b[0m \u001b[0mtarget_list\u001b[0m\u001b[1;33m,\u001b[0m \u001b[0moptions\u001b[0m\u001b[1;33m,\u001b[0m \u001b[0mrun_metadata\u001b[0m\u001b[1;33m)\u001b[0m\u001b[1;33m:\u001b[0m\u001b[1;33m\u001b[0m\u001b[1;33m\u001b[0m\u001b[0m\n\u001b[0;32m   1347\u001b[0m       \u001b[1;31m# Ensure any changes to the graph are reflected in the runtime.\u001b[0m\u001b[1;33m\u001b[0m\u001b[1;33m\u001b[0m\u001b[1;33m\u001b[0m\u001b[0m\n\u001b[1;32m-> 1348\u001b[1;33m       \u001b[0mself\u001b[0m\u001b[1;33m.\u001b[0m\u001b[0m_extend_graph\u001b[0m\u001b[1;33m(\u001b[0m\u001b[1;33m)\u001b[0m\u001b[1;33m\u001b[0m\u001b[1;33m\u001b[0m\u001b[0m\n\u001b[0m\u001b[0;32m   1349\u001b[0m       return self._call_tf_sessionrun(options, feed_dict, fetch_list,\n\u001b[0;32m   1350\u001b[0m                                       target_list, run_metadata)\n",
      "\u001b[1;32m~\\.conda\\envs\\logit\\lib\\site-packages\\tensorflow\\python\\client\\session.py\u001b[0m in \u001b[0;36m_extend_graph\u001b[1;34m(self)\u001b[0m\n\u001b[0;32m   1386\u001b[0m   \u001b[1;32mdef\u001b[0m \u001b[0m_extend_graph\u001b[0m\u001b[1;33m(\u001b[0m\u001b[0mself\u001b[0m\u001b[1;33m)\u001b[0m\u001b[1;33m:\u001b[0m\u001b[1;33m\u001b[0m\u001b[1;33m\u001b[0m\u001b[0m\n\u001b[0;32m   1387\u001b[0m     \u001b[1;32mwith\u001b[0m \u001b[0mself\u001b[0m\u001b[1;33m.\u001b[0m\u001b[0m_graph\u001b[0m\u001b[1;33m.\u001b[0m\u001b[0m_session_run_lock\u001b[0m\u001b[1;33m(\u001b[0m\u001b[1;33m)\u001b[0m\u001b[1;33m:\u001b[0m  \u001b[1;31m# pylint: disable=protected-access\u001b[0m\u001b[1;33m\u001b[0m\u001b[1;33m\u001b[0m\u001b[0m\n\u001b[1;32m-> 1388\u001b[1;33m       \u001b[0mtf_session\u001b[0m\u001b[1;33m.\u001b[0m\u001b[0mExtendSession\u001b[0m\u001b[1;33m(\u001b[0m\u001b[0mself\u001b[0m\u001b[1;33m.\u001b[0m\u001b[0m_session\u001b[0m\u001b[1;33m)\u001b[0m\u001b[1;33m\u001b[0m\u001b[1;33m\u001b[0m\u001b[0m\n\u001b[0m\u001b[0;32m   1389\u001b[0m \u001b[1;33m\u001b[0m\u001b[0m\n\u001b[0;32m   1390\u001b[0m   \u001b[1;31m# The threshold to run garbage collection to delete dead tensors.\u001b[0m\u001b[1;33m\u001b[0m\u001b[1;33m\u001b[0m\u001b[1;33m\u001b[0m\u001b[0m\n",
      "\u001b[1;31mMemoryError\u001b[0m: bad allocation"
     ]
    }
   ],
   "source": [
    "sigmoidMLP, sigmoid_loss, sigmoid_acc = train(sigmoidMLP, criterion, sgd, data_train, max_epoch, batch_size, disp_freq)"
   ]
  },
  {
   "cell_type": "markdown",
   "metadata": {},
   "source": [
    "### Test"
   ]
  },
  {
   "cell_type": "code",
   "execution_count": null,
   "metadata": {},
   "outputs": [],
   "source": [
    "test(sigmoidMLP, criterion, data_test, batch_size, disp_freq)"
   ]
  },
  {
   "cell_type": "markdown",
   "metadata": {},
   "source": [
    "## 2.2 MLP with Softmax Cross-Entropy Loss and ReLU Activation Function\n",
    "Build and train a MLP contraining one hidden layer with 128 units using ReLU activation function and Softmax cross-entropy loss function."
   ]
  },
  {
   "cell_type": "code",
   "execution_count": null,
   "metadata": {},
   "outputs": [],
   "source": [
    "reluMLP = Network()\n",
    "# Build ReLUMLP with FCLayer and ReLULayer\n",
    "# 128 is the number of hidden units, you can change by your own\n",
    "reluMLP.add(FCLayer(784, 128))\n",
    "reluMLP.add(ReLULayer())\n",
    "reluMLP.add(FCLayer(128, 10))"
   ]
  },
  {
   "cell_type": "code",
   "execution_count": null,
   "metadata": {
    "scrolled": true
   },
   "outputs": [],
   "source": [
    "reluMLP, relu_loss, relu_acc = train(reluMLP, criterion, sgd, data_train, max_epoch, batch_size, disp_freq)"
   ]
  },
  {
   "cell_type": "code",
   "execution_count": null,
   "metadata": {},
   "outputs": [],
   "source": [
    "test(reluMLP, criterion, data_test, batch_size, disp_freq)"
   ]
  },
  {
   "cell_type": "markdown",
   "metadata": {},
   "source": [
    "## Plot"
   ]
  },
  {
   "cell_type": "code",
   "execution_count": null,
   "metadata": {},
   "outputs": [],
   "source": [
    "plot_loss_and_acc({'Sigmoid': [sigmoid_loss, sigmoid_acc],\n",
    "                   'relu': [relu_loss, relu_acc]})"
   ]
  },
  {
   "cell_type": "markdown",
   "metadata": {},
   "source": [
    "### ~~You have finished homework2-mlp, congratulations!~~  \n",
    "\n",
    "**Next, according to the requirements 4) of report:**\n",
    "### **You need to construct a two-hidden-layer MLP, using any activation function and loss function.**\n",
    "\n",
    "**Note: Please insert some new cells blow (using '+' bottom in the toolbar) refer to above codes. Do not modify the former code directly.**"
   ]
  },
  {
   "cell_type": "markdown",
   "metadata": {},
   "source": [
    "## 3 2-layer MLP with Softmax Cross-Entropy Loss and ReLU Activation Function\n",
    "Build and train a MLP contraining one hidden layer with 128 units using ReLU activation function and Softmax cross-entropy loss function."
   ]
  },
  {
   "cell_type": "code",
   "execution_count": null,
   "metadata": {},
   "outputs": [],
   "source": [
    "from criterion import SoftmaxCrossEntropyLossLayer, EuclideanLossLayer\n",
    "from layers import FCLayer, SigmoidLayer, ReLULayer\n",
    "from optimizer import SGD"
   ]
  },
  {
   "cell_type": "code",
   "execution_count": null,
   "metadata": {},
   "outputs": [],
   "source": [
    "batch_size = 100\n",
    "max_epoch = 60\n",
    "init_std = 0.01\n",
    "\n",
    "learning_rate_SGD = 3e-3\n",
    "weight_decay = 1e-3\n",
    "\n",
    "disp_freq = 60"
   ]
  },
  {
   "cell_type": "code",
   "execution_count": null,
   "metadata": {},
   "outputs": [],
   "source": [
    "criterion = EuclideanLossLayer()\n",
    "sgd = SGD(learning_rate_SGD, weight_decay)\n",
    "\n",
    "sigmoidMLP.add(FCLayer(784, 128))\n",
    "sigmoidMLP.add(SigmoidLayer())\n",
    "sigmoidMLP.add(FCLayer(128, 32))\n",
    "sigmoidMLP.add(SigmoidLayer())\n",
    "sigmoidMLP.add(FCLayer(32, 10))\n",
    "\n",
    "sigmoidMLP, sigmoid_loss, sigmoid_acc = train(sigmoidMLP, criterion, sgd, data_train, max_epoch, batch_size, disp_freq)"
   ]
  },
  {
   "cell_type": "code",
   "execution_count": null,
   "metadata": {},
   "outputs": [],
   "source": [
    "test(sigmoidMLP, criterion, data_test, batch_size, disp_freq)"
   ]
  },
  {
   "cell_type": "code",
   "execution_count": null,
   "metadata": {},
   "outputs": [],
   "source": [
    "reluMLP = Network()\n",
    "reluMLP.add(FCLayer(784, 128))\n",
    "reluMLP.add(ReLULayer())\n",
    "reluMLP.add(FCLayer(128, 32))\n",
    "reluMLP.add(ReLULayer())\n",
    "reluMLP.add(FCLayer(32, 10))\n",
    "\n",
    "reluMLP, relu_loss, relu_acc = train(reluMLP, criterion, sgd, data_train, max_epoch, batch_size, disp_freq)"
   ]
  },
  {
   "cell_type": "code",
   "execution_count": null,
   "metadata": {},
   "outputs": [],
   "source": [
    "test(reluMLP, criterion, data_test, batch_size, disp_freq)"
   ]
  },
  {
   "cell_type": "code",
   "execution_count": null,
   "metadata": {},
   "outputs": [],
   "source": [
    "plot_loss_and_acc({'Sigmoid': [sigmoid_loss, sigmoid_acc],\n",
    "                   'relu': [relu_loss, relu_acc]})"
   ]
  }
 ],
 "metadata": {
  "kernelspec": {
   "display_name": "Python 3",
   "language": "python",
   "name": "python3"
  },
  "language_info": {
   "codemirror_mode": {
    "name": "ipython",
    "version": 3
   },
   "file_extension": ".py",
   "mimetype": "text/x-python",
   "name": "python",
   "nbconvert_exporter": "python",
   "pygments_lexer": "ipython3",
   "version": "3.8.0"
  }
 },
 "nbformat": 4,
 "nbformat_minor": 2
}
