{
  "nbformat": 4,
  "nbformat_minor": 0,
  "metadata": {
    "kernelspec": {
      "display_name": "Python 3",
      "language": "python",
      "name": "python3"
    },
    "language_info": {
      "codemirror_mode": {
        "name": "ipython",
        "version": 3
      },
      "file_extension": ".py",
      "mimetype": "text/x-python",
      "name": "python",
      "nbconvert_exporter": "python",
      "pygments_lexer": "ipython3",
      "version": "3.6.3"
    },
    "colab": {
      "name": "homework6.ipynb",
      "provenance": []
    }
  },
  "cells": [
    {
      "cell_type": "code",
      "metadata": {
        "collapsed": true,
        "id": "b0nKEOZA-LJ3"
      },
      "source": [
        "from __future__ import absolute_import\n",
        "from __future__ import division\n",
        "from __future__ import print_function\n",
        "\n",
        "import numpy as np\n",
        "import six\n",
        "from six.moves import range"
      ],
      "execution_count": 1,
      "outputs": []
    },
    {
      "cell_type": "code",
      "metadata": {
        "collapsed": true,
        "id": "IuEm5dWR-LKA"
      },
      "source": [
        "from matplotlib import pyplot as plt\n",
        "%matplotlib inline"
      ],
      "execution_count": 3,
      "outputs": []
    },
    {
      "cell_type": "code",
      "metadata": {
        "collapsed": true,
        "colab": {
          "base_uri": "https://localhost:8080/"
        },
        "id": "mFNPnSee-LKA",
        "outputId": "33647af9-7812-473d-a722-784fd63d7228"
      },
      "source": [
        "X = np.loadtxt('iris.data', dtype='object', delimiter=',')\n",
        "Y = X[:,-1]\n",
        "X = X[:, :-1].astype('f')\n",
        "X.shape, Y.shape, Y.dtype"
      ],
      "execution_count": 4,
      "outputs": [
        {
          "output_type": "execute_result",
          "data": {
            "text/plain": [
              "((150, 4), (150,), dtype('O'))"
            ]
          },
          "metadata": {
            "tags": []
          },
          "execution_count": 4
        }
      ]
    },
    {
      "cell_type": "markdown",
      "metadata": {
        "id": "osl8ho80-LKB"
      },
      "source": [
        "`X` is a `NxK` float matrix where each row (`X[i]`) corresponds to a data point."
      ]
    },
    {
      "cell_type": "code",
      "metadata": {
        "collapsed": true,
        "id": "3JseVpXl-LKB"
      },
      "source": [
        "from scipy.stats import multivariate_normal\n",
        "\n",
        "def gmm(X, n_classes, n_iter):\n",
        "    # TODO fill in your code here\n",
        "\n",
        "    n_classes = int(n_classes)\n",
        "    \n",
        "    # init\n",
        "    n, m = X.shape\n",
        "    shape = X.shape\n",
        "    phi = np.full(shape=n_classes, fill_value=1/n_classes)\n",
        "    weights = np.full(shape=shape, fill_value=1/n_classes)\n",
        "    random_row = np.random.randint(low=0, high=n, size=n_classes)\n",
        "\n",
        "    # Mean\n",
        "    mean = [X[row_index,:] for row_index in random_row]\n",
        "\n",
        "    # Covariance\n",
        "    cov = [np.cov(X.T) for _ in range(n_classes)]\n",
        "\n",
        "    log_likelihoods = []\n",
        "\n",
        "    for iter in range(n_iter):\n",
        "        # E-Step\n",
        "        likelihood = np.zeros((n, n_classes))\n",
        "        for c in range(n_classes):\n",
        "            likelihood[:, c] = multivariate_normal.pdf(X, mean=mean[c], cov=cov[c])\n",
        "\n",
        "        log_likelihood = np.sum(np.log(np.sum(weights, axis=1)))\n",
        "        log_likelihoods.append(log_likelihood)\n",
        "        \n",
        "        numerator = likelihood * phi\n",
        "        denominator = numerator.sum(axis=1)[:, np.newaxis]\n",
        "        weights = numerator / denominator\n",
        "        phi = weights.mean(axis=0)\n",
        "    \n",
        "        # M-Step\n",
        "        for c in range(n_classes):\n",
        "            weight = weights[:, [c]]\n",
        "            total_weight = weight.sum()\n",
        "            mean[c] = (X * weight).sum(axis=0) / total_weight\n",
        "            cov[c] = np.cov(X.T, aweights=(weight/total_weight).flatten(), bias=True)\n",
        "\n",
        "    class_assignments = np.argmax(weights, axis=1)\n",
        "    mean = np.array(mean)\n",
        "\n",
        "    return class_assignments, mean, cov"
      ],
      "execution_count": 47,
      "outputs": []
    },
    {
      "cell_type": "code",
      "metadata": {
        "collapsed": true,
        "id": "FkzuGh9I-LKC"
      },
      "source": [
        "class_assignments, mean, cov = gmm(X, 3, 300)  # You may want to tune the number of iterations"
      ],
      "execution_count": 64,
      "outputs": []
    },
    {
      "cell_type": "markdown",
      "metadata": {
        "id": "_POFw_Pe-LKC"
      },
      "source": [
        "## Visualization: a Cross Section"
      ]
    },
    {
      "cell_type": "code",
      "metadata": {
        "collapsed": true,
        "colab": {
          "base_uri": "https://localhost:8080/",
          "height": 268
        },
        "id": "XcRxcg3i-LKC",
        "outputId": "a771b85c-3ced-40a9-a0de-dd59be09ed44"
      },
      "source": [
        "plt.figure(figsize=(9,4))\n",
        "plt.subplot(121)\n",
        "for k in range(3):\n",
        "    plt.scatter(X[class_assignments==k, 2], X[class_assignments==k, 1], s=2)\n",
        "plt.subplot(122)\n",
        "for k, class_name in enumerate(np.unique(Y)):\n",
        "    plt.scatter(X[Y==class_name, 2], X[Y==class_name, 1], s=2)"
      ],
      "execution_count": 65,
      "outputs": [
        {
          "output_type": "display_data",
          "data": {
            "image/png": "[encoded data removed]",
            "text/plain": [
              "<Figure size 648x288 with 2 Axes>"
            ]
          },
          "metadata": {
            "tags": [],
            "needs_background": "light"
          }
        }
      ]
    },
    {
      "cell_type": "markdown",
      "metadata": {
        "id": "25bu1M3K-LKD"
      },
      "source": [
        "## Visualization: PCA Projection"
      ]
    },
    {
      "cell_type": "code",
      "metadata": {
        "collapsed": true,
        "id": "CEYU9iCG-LKD"
      },
      "source": [
        "evals, evecs = np.linalg.eigh(np.cov(X.T))\n",
        "to_crd = lambda x: ((x-x.mean(axis=0))@evecs)[:,-2:]\n",
        "crds = to_crd(X)"
      ],
      "execution_count": 66,
      "outputs": []
    },
    {
      "cell_type": "code",
      "metadata": {
        "collapsed": true,
        "colab": {
          "base_uri": "https://localhost:8080/",
          "height": 265
        },
        "id": "fp7pSmU2-LKD",
        "outputId": "124897f9-88b2-4764-8834-f35ea53111b2"
      },
      "source": [
        "plt.figure(figsize=(9,4))\n",
        "plt.subplot(121)\n",
        "for k in range(3):\n",
        "    plt.scatter(crds[class_assignments==k, 0], crds[class_assignments==k, 1], s=2)\n",
        "plt.scatter(to_crd(mean)[:,0], to_crd(mean)[:,1], s=30, marker='+')\n",
        "plt.subplot(122)\n",
        "for k in np.unique(Y):\n",
        "    plt.scatter(crds[Y==k, 0], crds[Y==k, 1], s=2)"
      ],
      "execution_count": 69,
      "outputs": [
        {
          "output_type": "display_data",
          "data": {
            "image/png": "[encoded data removed]",
            "text/plain": [
              "<Figure size 648x288 with 2 Axes>"
            ]
          },
          "metadata": {
            "tags": [],
            "needs_background": "light"
          }
        }
      ]
    }
  ]
}