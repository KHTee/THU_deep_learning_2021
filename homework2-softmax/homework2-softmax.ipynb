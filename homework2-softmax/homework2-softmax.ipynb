{
 "cells": [
  {
   "cell_type": "markdown",
   "metadata": {},
   "source": [
    "# Homework-2: Softmax for MNIST Classification\n",
    "\n",
    "### In this homework, you need to\n",
    "- ### implement and apply a softmax classifier to perform digits classification."
   ]
  },
  {
   "cell_type": "code",
   "execution_count": 1,
   "metadata": {},
   "outputs": [],
   "source": [
    "import os,sys\n",
    "import numpy as np\n",
    "import matplotlib.pyplot as plt\n",
    "%matplotlib inline"
   ]
  },
  {
   "cell_type": "markdown",
   "metadata": {},
   "source": [
    "## Load MNIST Dataset\n",
    "The **mnist_data_loader.py** is a script to load mnist dataset, which is included in [TensorFlow tutorial](https://github.com/tensorflow/tensorflow/blob/r0.7/tensorflow/examples/tutorials/mnist/input_data.py)."
   ]
  },
  {
   "cell_type": "code",
   "execution_count": 2,
   "metadata": {},
   "outputs": [
    {
     "name": "stdout",
     "output_type": "stream",
     "text": [
      "Extracting ./MNIST_data/train-images-idx3-ubyte.gz\n",
      "Extracting ./MNIST_data/train-labels-idx1-ubyte.gz\n",
      "Extracting ./MNIST_data/t10k-images-idx3-ubyte.gz\n",
      "Extracting ./MNIST_data/t10k-labels-idx1-ubyte.gz\n",
      "\n",
      "Training dataset size:  60000\n",
      "Test dataset size:  10000\n"
     ]
    }
   ],
   "source": [
    "import mnist_data_loader\n",
    "\n",
    "mnist_dataset = mnist_data_loader.read_data_sets(\"./MNIST_data/\", one_hot=True)\n",
    "\n",
    "# training dataset\n",
    "train_set = mnist_dataset.train \n",
    "# test dataset\n",
    "test_set = mnist_dataset.test   \n",
    "\n",
    "train_size = train_set.num_examples\n",
    "test_size = test_set.num_examples\n",
    "print()\n",
    "print('Training dataset size: ', train_size)\n",
    "print('Test dataset size: ', test_size)"
   ]
  },
  {
   "cell_type": "markdown",
   "metadata": {},
   "source": [
    "## Data Example\n",
    "To have a better understand of MNIST dataset, we can visualize some examples in MNIST."
   ]
  },
  {
   "cell_type": "code",
   "execution_count": 3,
   "metadata": {},
   "outputs": [
    {
     "name": "stdout",
     "output_type": "stream",
     "text": [
      "[0. 0. 0. 0. 0. 1. 0. 0. 0. 0.]\n"
     ]
    },
    {
     "data": {
      "text/plain": [
       "<matplotlib.image.AxesImage at 0x1e79498c9a0>"
      ]
     },
     "execution_count": 3,
     "metadata": {},
     "output_type": "execute_result"
    },
    {
     "data": {
      "image/png": "[encoded data removed]",
      "text/plain": [
       "<Figure size 432x288 with 1 Axes>"
      ]
     },
     "metadata": {
      "needs_background": "light"
     },
     "output_type": "display_data"
    }
   ],
   "source": [
    "# You can choose any image in training set to visualize, example_id ∈ [0,60000)\n",
    "example_id = 0 \n",
    "\n",
    "image = train_set.images[example_id] # shape = 784 (28*28)\n",
    "label = train_set.labels[example_id] # shape = 10\n",
    "#print(image)\n",
    "print(label)\n",
    "plt.imshow(np.reshape(image,[28,28]))"
   ]
  },
  {
   "cell_type": "markdown",
   "metadata": {},
   "source": [
    "## Set Hyerparameters\n",
    "You can modify hyerparameters by yourself."
   ]
  },
  {
   "cell_type": "code",
   "execution_count": 4,
   "metadata": {},
   "outputs": [],
   "source": [
    "batch_size = 100\n",
    "max_epoch = 50\n",
    "learning_rate = 0.001\n",
    "\n",
    "# For regularization\n",
    "lamda = 0.01"
   ]
  },
  {
   "cell_type": "markdown",
   "metadata": {},
   "source": [
    "### TODO\n",
    "Before executing the following code, you should accomplish **./softmax_classifier.py**."
   ]
  },
  {
   "cell_type": "code",
   "execution_count": 5,
   "metadata": {},
   "outputs": [],
   "source": [
    "from softmax_classifier import softmax_classifier"
   ]
  },
  {
   "cell_type": "markdown",
   "metadata": {},
   "source": [
    "## Train"
   ]
  },
  {
   "cell_type": "code",
   "execution_count": 6,
   "metadata": {
    "scrolled": true,
    "tags": []
   },
   "outputs": [
    {
     "name": "stdout",
     "output_type": "stream",
     "text": [
      "Epoch [0][50]\t Batch [0][600]\t Training Loss 1.3020\t Accuracy 0.1000\n",
      "Epoch [0][50]\t Batch [100][600]\t Training Loss 1.1897\t Accuracy 0.7200\n",
      "Epoch [0][50]\t Batch [200][600]\t Training Loss 1.1327\t Accuracy 0.5800\n",
      "Epoch [0][50]\t Batch [300][600]\t Training Loss 1.0396\t Accuracy 0.6700\n",
      "Epoch [0][50]\t Batch [400][600]\t Training Loss 0.9129\t Accuracy 0.7500\n",
      "Epoch [0][50]\t Batch [500][600]\t Training Loss 0.8816\t Accuracy 0.7400\n",
      "\n",
      "Epoch [1][50]\t Batch [0][600]\t Training Loss 0.7659\t Accuracy 0.7300\n",
      "Epoch [1][50]\t Batch [100][600]\t Training Loss 0.7125\t Accuracy 0.7700\n",
      "Epoch [1][50]\t Batch [200][600]\t Training Loss 0.6154\t Accuracy 0.7700\n",
      "Epoch [1][50]\t Batch [300][600]\t Training Loss 0.6015\t Accuracy 0.7000\n",
      "Epoch [1][50]\t Batch [400][600]\t Training Loss 0.5180\t Accuracy 0.7800\n",
      "Epoch [1][50]\t Batch [500][600]\t Training Loss 0.4748\t Accuracy 0.8200\n",
      "\n",
      "Epoch [2][50]\t Batch [0][600]\t Training Loss 0.4485\t Accuracy 0.8100\n",
      "Epoch [2][50]\t Batch [100][600]\t Training Loss 0.4019\t Accuracy 0.8100\n",
      "Epoch [2][50]\t Batch [200][600]\t Training Loss 0.2650\t Accuracy 0.8700\n",
      "Epoch [2][50]\t Batch [300][600]\t Training Loss 0.3246\t Accuracy 0.8000\n",
      "Epoch [2][50]\t Batch [400][600]\t Training Loss 0.3270\t Accuracy 0.7600\n",
      "Epoch [2][50]\t Batch [500][600]\t Training Loss 0.3728\t Accuracy 0.7700\n",
      "\n",
      "Epoch [3][50]\t Batch [0][600]\t Training Loss 0.3266\t Accuracy 0.8100\n",
      "Epoch [3][50]\t Batch [100][600]\t Training Loss 0.2248\t Accuracy 0.7600\n",
      "Epoch [3][50]\t Batch [200][600]\t Training Loss 0.2335\t Accuracy 0.8100\n",
      "Epoch [3][50]\t Batch [300][600]\t Training Loss 0.1937\t Accuracy 0.8000\n",
      "Epoch [3][50]\t Batch [400][600]\t Training Loss 0.1726\t Accuracy 0.8100\n",
      "Epoch [3][50]\t Batch [500][600]\t Training Loss 0.1134\t Accuracy 0.8600\n",
      "\n",
      "Epoch [4][50]\t Batch [0][600]\t Training Loss 0.0783\t Accuracy 0.7900\n",
      "Epoch [4][50]\t Batch [100][600]\t Training Loss 0.1001\t Accuracy 0.8000\n",
      "Epoch [4][50]\t Batch [200][600]\t Training Loss 0.0947\t Accuracy 0.8000\n",
      "Epoch [4][50]\t Batch [300][600]\t Training Loss 0.0753\t Accuracy 0.8400\n",
      "Epoch [4][50]\t Batch [400][600]\t Training Loss 0.0467\t Accuracy 0.7600\n",
      "Epoch [4][50]\t Batch [500][600]\t Training Loss -0.0383\t Accuracy 0.8600\n",
      "\n",
      "Epoch [5][50]\t Batch [0][600]\t Training Loss -0.0654\t Accuracy 0.8400\n",
      "Epoch [5][50]\t Batch [100][600]\t Training Loss 0.0188\t Accuracy 0.8100\n",
      "Epoch [5][50]\t Batch [200][600]\t Training Loss 0.0809\t Accuracy 0.7900\n",
      "Epoch [5][50]\t Batch [300][600]\t Training Loss 0.1010\t Accuracy 0.7400\n",
      "Epoch [5][50]\t Batch [400][600]\t Training Loss 0.0705\t Accuracy 0.7500\n",
      "Epoch [5][50]\t Batch [500][600]\t Training Loss -0.1428\t Accuracy 0.8800\n",
      "\n",
      "Epoch [6][50]\t Batch [0][600]\t Training Loss -0.0829\t Accuracy 0.8600\n",
      "Epoch [6][50]\t Batch [100][600]\t Training Loss -0.0181\t Accuracy 0.7700\n",
      "Epoch [6][50]\t Batch [200][600]\t Training Loss -0.0875\t Accuracy 0.8400\n",
      "Epoch [6][50]\t Batch [300][600]\t Training Loss -0.0158\t Accuracy 0.8100\n",
      "Epoch [6][50]\t Batch [400][600]\t Training Loss -0.0757\t Accuracy 0.8300\n",
      "Epoch [6][50]\t Batch [500][600]\t Training Loss -0.2198\t Accuracy 0.9600\n",
      "\n",
      "Epoch [7][50]\t Batch [0][600]\t Training Loss -0.0900\t Accuracy 0.8100\n",
      "Epoch [7][50]\t Batch [100][600]\t Training Loss -0.0987\t Accuracy 0.8200\n",
      "Epoch [7][50]\t Batch [200][600]\t Training Loss -0.1153\t Accuracy 0.8500\n",
      "Epoch [7][50]\t Batch [300][600]\t Training Loss -0.1378\t Accuracy 0.8200\n",
      "Epoch [7][50]\t Batch [400][600]\t Training Loss -0.0402\t Accuracy 0.8200\n",
      "Epoch [7][50]\t Batch [500][600]\t Training Loss -0.0643\t Accuracy 0.7600\n",
      "\n",
      "Epoch [8][50]\t Batch [0][600]\t Training Loss -0.0814\t Accuracy 0.7900\n",
      "Epoch [8][50]\t Batch [100][600]\t Training Loss -0.2003\t Accuracy 0.8500\n",
      "Epoch [8][50]\t Batch [200][600]\t Training Loss -0.1010\t Accuracy 0.8000\n",
      "Epoch [8][50]\t Batch [300][600]\t Training Loss -0.1005\t Accuracy 0.7800\n",
      "Epoch [8][50]\t Batch [400][600]\t Training Loss -0.0822\t Accuracy 0.7900\n",
      "Epoch [8][50]\t Batch [500][600]\t Training Loss -0.1891\t Accuracy 0.8400\n",
      "\n",
      "Epoch [9][50]\t Batch [0][600]\t Training Loss -0.2572\t Accuracy 0.8300\n",
      "Epoch [9][50]\t Batch [100][600]\t Training Loss -0.1660\t Accuracy 0.8600\n",
      "Epoch [9][50]\t Batch [200][600]\t Training Loss -0.2129\t Accuracy 0.8700\n",
      "Epoch [9][50]\t Batch [300][600]\t Training Loss -0.2352\t Accuracy 0.8700\n",
      "Epoch [9][50]\t Batch [400][600]\t Training Loss -0.2357\t Accuracy 0.8500\n",
      "Epoch [9][50]\t Batch [500][600]\t Training Loss -0.2273\t Accuracy 0.8900\n",
      "\n",
      "Epoch [10][50]\t Batch [0][600]\t Training Loss -0.2992\t Accuracy 0.9100\n",
      "Epoch [10][50]\t Batch [100][600]\t Training Loss -0.1702\t Accuracy 0.8200\n",
      "Epoch [10][50]\t Batch [200][600]\t Training Loss -0.1274\t Accuracy 0.8200\n",
      "Epoch [10][50]\t Batch [300][600]\t Training Loss -0.1575\t Accuracy 0.8300\n",
      "Epoch [10][50]\t Batch [400][600]\t Training Loss -0.2088\t Accuracy 0.8500\n",
      "Epoch [10][50]\t Batch [500][600]\t Training Loss -0.1230\t Accuracy 0.7700\n",
      "\n",
      "Epoch [11][50]\t Batch [0][600]\t Training Loss -0.1316\t Accuracy 0.7800\n",
      "Epoch [11][50]\t Batch [100][600]\t Training Loss -0.1702\t Accuracy 0.8500\n",
      "Epoch [11][50]\t Batch [200][600]\t Training Loss -0.1580\t Accuracy 0.8100\n",
      "Epoch [11][50]\t Batch [300][600]\t Training Loss -0.1926\t Accuracy 0.8100\n",
      "Epoch [11][50]\t Batch [400][600]\t Training Loss -0.2690\t Accuracy 0.8400\n",
      "Epoch [11][50]\t Batch [500][600]\t Training Loss -0.2846\t Accuracy 0.8500\n",
      "\n",
      "Epoch [12][50]\t Batch [0][600]\t Training Loss -0.2533\t Accuracy 0.8400\n",
      "Epoch [12][50]\t Batch [100][600]\t Training Loss -0.2814\t Accuracy 0.8900\n",
      "Epoch [12][50]\t Batch [200][600]\t Training Loss -0.3133\t Accuracy 0.8800\n",
      "Epoch [12][50]\t Batch [300][600]\t Training Loss -0.2925\t Accuracy 0.8300\n",
      "Epoch [12][50]\t Batch [400][600]\t Training Loss -0.2936\t Accuracy 0.8600\n",
      "Epoch [12][50]\t Batch [500][600]\t Training Loss -0.2696\t Accuracy 0.8200\n",
      "\n",
      "Epoch [13][50]\t Batch [0][600]\t Training Loss -0.2158\t Accuracy 0.8400\n",
      "Epoch [13][50]\t Batch [100][600]\t Training Loss -0.3175\t Accuracy 0.9000\n",
      "Epoch [13][50]\t Batch [200][600]\t Training Loss -0.1891\t Accuracy 0.7500\n",
      "Epoch [13][50]\t Batch [300][600]\t Training Loss -0.2814\t Accuracy 0.8700\n",
      "Epoch [13][50]\t Batch [400][600]\t Training Loss -0.2827\t Accuracy 0.8700\n",
      "Epoch [13][50]\t Batch [500][600]\t Training Loss -0.2344\t Accuracy 0.8100\n",
      "\n",
      "Epoch [14][50]\t Batch [0][600]\t Training Loss -0.3533\t Accuracy 0.8800\n",
      "Epoch [14][50]\t Batch [100][600]\t Training Loss -0.2546\t Accuracy 0.7900\n",
      "Epoch [14][50]\t Batch [200][600]\t Training Loss -0.2160\t Accuracy 0.8500\n",
      "Epoch [14][50]\t Batch [300][600]\t Training Loss -0.3158\t Accuracy 0.8900\n",
      "Epoch [14][50]\t Batch [400][600]\t Training Loss -0.2259\t Accuracy 0.8900\n",
      "Epoch [14][50]\t Batch [500][600]\t Training Loss -0.2769\t Accuracy 0.8100\n",
      "\n",
      "Epoch [15][50]\t Batch [0][600]\t Training Loss -0.2010\t Accuracy 0.8600\n",
      "Epoch [15][50]\t Batch [100][600]\t Training Loss -0.2313\t Accuracy 0.7900\n",
      "Epoch [15][50]\t Batch [200][600]\t Training Loss -0.3052\t Accuracy 0.8600\n",
      "Epoch [15][50]\t Batch [300][600]\t Training Loss -0.2765\t Accuracy 0.8300\n",
      "Epoch [15][50]\t Batch [400][600]\t Training Loss -0.3045\t Accuracy 0.8500\n",
      "Epoch [15][50]\t Batch [500][600]\t Training Loss -0.2799\t Accuracy 0.8400\n",
      "\n",
      "Epoch [16][50]\t Batch [0][600]\t Training Loss -0.3708\t Accuracy 0.9000\n",
      "Epoch [16][50]\t Batch [100][600]\t Training Loss -0.2621\t Accuracy 0.8200\n",
      "Epoch [16][50]\t Batch [200][600]\t Training Loss -0.3446\t Accuracy 0.9000\n",
      "Epoch [16][50]\t Batch [300][600]\t Training Loss -0.3957\t Accuracy 0.9300\n",
      "Epoch [16][50]\t Batch [400][600]\t Training Loss -0.3270\t Accuracy 0.8800\n",
      "Epoch [16][50]\t Batch [500][600]\t Training Loss -0.3119\t Accuracy 0.8500\n",
      "\n",
      "Epoch [17][50]\t Batch [0][600]\t Training Loss -0.3185\t Accuracy 0.8600\n",
      "Epoch [17][50]\t Batch [100][600]\t Training Loss -0.2854\t Accuracy 0.8600\n",
      "Epoch [17][50]\t Batch [200][600]\t Training Loss -0.3345\t Accuracy 0.8500\n",
      "Epoch [17][50]\t Batch [300][600]\t Training Loss -0.2870\t Accuracy 0.8300\n",
      "Epoch [17][50]\t Batch [400][600]\t Training Loss -0.3653\t Accuracy 0.9300\n",
      "Epoch [17][50]\t Batch [500][600]\t Training Loss -0.2851\t Accuracy 0.8700\n",
      "\n",
      "Epoch [18][50]\t Batch [0][600]\t Training Loss -0.3918\t Accuracy 0.9300\n",
      "Epoch [18][50]\t Batch [100][600]\t Training Loss -0.1998\t Accuracy 0.7700\n",
      "Epoch [18][50]\t Batch [200][600]\t Training Loss -0.3400\t Accuracy 0.9000\n",
      "Epoch [18][50]\t Batch [300][600]\t Training Loss -0.3790\t Accuracy 0.9200\n",
      "Epoch [18][50]\t Batch [400][600]\t Training Loss -0.2773\t Accuracy 0.8300\n",
      "Epoch [18][50]\t Batch [500][600]\t Training Loss -0.3153\t Accuracy 0.8500\n",
      "\n"
     ]
    },
    {
     "name": "stdout",
     "output_type": "stream",
     "text": [
      "Epoch [19][50]\t Batch [0][600]\t Training Loss -0.2785\t Accuracy 0.8200\n",
      "Epoch [19][50]\t Batch [100][600]\t Training Loss -0.4137\t Accuracy 0.9100\n",
      "Epoch [19][50]\t Batch [200][600]\t Training Loss -0.2990\t Accuracy 0.8300\n",
      "Epoch [19][50]\t Batch [300][600]\t Training Loss -0.3108\t Accuracy 0.8300\n",
      "Epoch [19][50]\t Batch [400][600]\t Training Loss -0.3745\t Accuracy 0.9300\n",
      "Epoch [19][50]\t Batch [500][600]\t Training Loss -0.2851\t Accuracy 0.8500\n",
      "\n",
      "Epoch [20][50]\t Batch [0][600]\t Training Loss -0.3335\t Accuracy 0.8200\n",
      "Epoch [20][50]\t Batch [100][600]\t Training Loss -0.3183\t Accuracy 0.8000\n",
      "Epoch [20][50]\t Batch [200][600]\t Training Loss -0.4011\t Accuracy 0.9000\n",
      "Epoch [20][50]\t Batch [300][600]\t Training Loss -0.3465\t Accuracy 0.8600\n",
      "Epoch [20][50]\t Batch [400][600]\t Training Loss -0.3008\t Accuracy 0.8400\n",
      "Epoch [20][50]\t Batch [500][600]\t Training Loss -0.3626\t Accuracy 0.9000\n",
      "\n",
      "Epoch [21][50]\t Batch [0][600]\t Training Loss -0.3768\t Accuracy 0.8700\n",
      "Epoch [21][50]\t Batch [100][600]\t Training Loss -0.3114\t Accuracy 0.8800\n",
      "Epoch [21][50]\t Batch [200][600]\t Training Loss -0.2785\t Accuracy 0.8300\n",
      "Epoch [21][50]\t Batch [300][600]\t Training Loss -0.3217\t Accuracy 0.8600\n",
      "Epoch [21][50]\t Batch [400][600]\t Training Loss -0.3548\t Accuracy 0.8600\n",
      "Epoch [21][50]\t Batch [500][600]\t Training Loss -0.2665\t Accuracy 0.8900\n",
      "\n",
      "Epoch [22][50]\t Batch [0][600]\t Training Loss -0.3183\t Accuracy 0.8400\n",
      "Epoch [22][50]\t Batch [100][600]\t Training Loss -0.3087\t Accuracy 0.8800\n",
      "Epoch [22][50]\t Batch [200][600]\t Training Loss -0.4127\t Accuracy 0.8500\n",
      "Epoch [22][50]\t Batch [300][600]\t Training Loss -0.3262\t Accuracy 0.8900\n",
      "Epoch [22][50]\t Batch [400][600]\t Training Loss -0.2901\t Accuracy 0.8100\n",
      "Epoch [22][50]\t Batch [500][600]\t Training Loss -0.2891\t Accuracy 0.8400\n",
      "\n",
      "Epoch [23][50]\t Batch [0][600]\t Training Loss -0.2903\t Accuracy 0.8800\n",
      "Epoch [23][50]\t Batch [100][600]\t Training Loss -0.3505\t Accuracy 0.8600\n",
      "Epoch [23][50]\t Batch [200][600]\t Training Loss -0.1866\t Accuracy 0.7300\n",
      "Epoch [23][50]\t Batch [300][600]\t Training Loss -0.2681\t Accuracy 0.8300\n",
      "Epoch [23][50]\t Batch [400][600]\t Training Loss -0.2881\t Accuracy 0.8500\n",
      "Epoch [23][50]\t Batch [500][600]\t Training Loss -0.3794\t Accuracy 0.8900\n",
      "\n",
      "Epoch [24][50]\t Batch [0][600]\t Training Loss -0.3515\t Accuracy 0.8600\n",
      "Epoch [24][50]\t Batch [100][600]\t Training Loss -0.3797\t Accuracy 0.8900\n",
      "Epoch [24][50]\t Batch [200][600]\t Training Loss -0.2898\t Accuracy 0.8300\n",
      "Epoch [24][50]\t Batch [300][600]\t Training Loss -0.3817\t Accuracy 0.8900\n",
      "Epoch [24][50]\t Batch [400][600]\t Training Loss -0.2579\t Accuracy 0.7900\n",
      "Epoch [24][50]\t Batch [500][600]\t Training Loss -0.2715\t Accuracy 0.8100\n",
      "\n",
      "Epoch [25][50]\t Batch [0][600]\t Training Loss -0.2687\t Accuracy 0.8000\n",
      "Epoch [25][50]\t Batch [100][600]\t Training Loss -0.3377\t Accuracy 0.9000\n",
      "Epoch [25][50]\t Batch [200][600]\t Training Loss -0.3463\t Accuracy 0.9000\n",
      "Epoch [25][50]\t Batch [300][600]\t Training Loss -0.3522\t Accuracy 0.9000\n",
      "Epoch [25][50]\t Batch [400][600]\t Training Loss -0.4041\t Accuracy 0.8700\n",
      "Epoch [25][50]\t Batch [500][600]\t Training Loss -0.3530\t Accuracy 0.8600\n",
      "\n",
      "Epoch [26][50]\t Batch [0][600]\t Training Loss -0.3087\t Accuracy 0.8200\n",
      "Epoch [26][50]\t Batch [100][600]\t Training Loss -0.4176\t Accuracy 0.9000\n",
      "Epoch [26][50]\t Batch [200][600]\t Training Loss -0.2796\t Accuracy 0.8400\n",
      "Epoch [26][50]\t Batch [300][600]\t Training Loss -0.3995\t Accuracy 0.9000\n",
      "Epoch [26][50]\t Batch [400][600]\t Training Loss -0.3460\t Accuracy 0.9000\n",
      "Epoch [26][50]\t Batch [500][600]\t Training Loss -0.4059\t Accuracy 0.8900\n",
      "\n",
      "Epoch [27][50]\t Batch [0][600]\t Training Loss -0.3465\t Accuracy 0.8600\n",
      "Epoch [27][50]\t Batch [100][600]\t Training Loss -0.3845\t Accuracy 0.9200\n",
      "Epoch [27][50]\t Batch [200][600]\t Training Loss -0.3994\t Accuracy 0.9200\n",
      "Epoch [27][50]\t Batch [300][600]\t Training Loss -0.4212\t Accuracy 0.9100\n",
      "Epoch [27][50]\t Batch [400][600]\t Training Loss -0.2907\t Accuracy 0.8000\n",
      "Epoch [27][50]\t Batch [500][600]\t Training Loss -0.3554\t Accuracy 0.9100\n",
      "\n",
      "Epoch [28][50]\t Batch [0][600]\t Training Loss -0.3589\t Accuracy 0.8600\n",
      "Epoch [28][50]\t Batch [100][600]\t Training Loss -0.3592\t Accuracy 0.9100\n",
      "Epoch [28][50]\t Batch [200][600]\t Training Loss -0.3792\t Accuracy 0.8900\n",
      "Epoch [28][50]\t Batch [300][600]\t Training Loss -0.3461\t Accuracy 0.8800\n",
      "Epoch [28][50]\t Batch [400][600]\t Training Loss -0.3541\t Accuracy 0.8600\n",
      "Epoch [28][50]\t Batch [500][600]\t Training Loss -0.3257\t Accuracy 0.8500\n",
      "\n",
      "Epoch [29][50]\t Batch [0][600]\t Training Loss -0.3798\t Accuracy 0.8900\n",
      "Epoch [29][50]\t Batch [100][600]\t Training Loss -0.2098\t Accuracy 0.7700\n",
      "Epoch [29][50]\t Batch [200][600]\t Training Loss -0.2549\t Accuracy 0.8400\n",
      "Epoch [29][50]\t Batch [300][600]\t Training Loss -0.3671\t Accuracy 0.8600\n",
      "Epoch [29][50]\t Batch [400][600]\t Training Loss -0.5370\t Accuracy 0.9300\n",
      "Epoch [29][50]\t Batch [500][600]\t Training Loss -0.3647\t Accuracy 0.8400\n",
      "\n",
      "Epoch [30][50]\t Batch [0][600]\t Training Loss -0.3343\t Accuracy 0.8600\n",
      "Epoch [30][50]\t Batch [100][600]\t Training Loss -0.3240\t Accuracy 0.8600\n",
      "Epoch [30][50]\t Batch [200][600]\t Training Loss -0.3897\t Accuracy 0.8900\n",
      "Epoch [30][50]\t Batch [300][600]\t Training Loss -0.3843\t Accuracy 0.8600\n",
      "Epoch [30][50]\t Batch [400][600]\t Training Loss -0.3062\t Accuracy 0.8500\n",
      "Epoch [30][50]\t Batch [500][600]\t Training Loss -0.3941\t Accuracy 0.9000\n",
      "\n",
      "Epoch [31][50]\t Batch [0][600]\t Training Loss -0.3208\t Accuracy 0.8600\n",
      "Epoch [31][50]\t Batch [100][600]\t Training Loss -0.3604\t Accuracy 0.8900\n",
      "Epoch [31][50]\t Batch [200][600]\t Training Loss -0.2988\t Accuracy 0.8400\n",
      "Epoch [31][50]\t Batch [300][600]\t Training Loss -0.3787\t Accuracy 0.9000\n",
      "Epoch [31][50]\t Batch [400][600]\t Training Loss -0.4373\t Accuracy 0.9100\n",
      "Epoch [31][50]\t Batch [500][600]\t Training Loss -0.3198\t Accuracy 0.8600\n",
      "\n",
      "Epoch [32][50]\t Batch [0][600]\t Training Loss -0.3291\t Accuracy 0.8400\n",
      "Epoch [32][50]\t Batch [100][600]\t Training Loss -0.2876\t Accuracy 0.8200\n",
      "Epoch [32][50]\t Batch [200][600]\t Training Loss -0.3176\t Accuracy 0.8300\n",
      "Epoch [32][50]\t Batch [300][600]\t Training Loss -0.3356\t Accuracy 0.8400\n",
      "Epoch [32][50]\t Batch [400][600]\t Training Loss -0.3797\t Accuracy 0.9100\n",
      "Epoch [32][50]\t Batch [500][600]\t Training Loss -0.2799\t Accuracy 0.8500\n",
      "\n",
      "Epoch [33][50]\t Batch [0][600]\t Training Loss -0.3233\t Accuracy 0.8500\n",
      "Epoch [33][50]\t Batch [100][600]\t Training Loss -0.3818\t Accuracy 0.8600\n",
      "Epoch [33][50]\t Batch [200][600]\t Training Loss -0.3359\t Accuracy 0.8600\n",
      "Epoch [33][50]\t Batch [300][600]\t Training Loss -0.4291\t Accuracy 0.9000\n",
      "Epoch [33][50]\t Batch [400][600]\t Training Loss -0.3277\t Accuracy 0.8100\n",
      "Epoch [33][50]\t Batch [500][600]\t Training Loss -0.4105\t Accuracy 0.9000\n",
      "\n",
      "Epoch [34][50]\t Batch [0][600]\t Training Loss -0.3157\t Accuracy 0.8500\n",
      "Epoch [34][50]\t Batch [100][600]\t Training Loss -0.3349\t Accuracy 0.8200\n",
      "Epoch [34][50]\t Batch [200][600]\t Training Loss -0.3142\t Accuracy 0.8700\n",
      "Epoch [34][50]\t Batch [300][600]\t Training Loss -0.3937\t Accuracy 0.8900\n",
      "Epoch [34][50]\t Batch [400][600]\t Training Loss -0.3277\t Accuracy 0.8500\n",
      "Epoch [34][50]\t Batch [500][600]\t Training Loss -0.4469\t Accuracy 0.8800\n",
      "\n",
      "Epoch [35][50]\t Batch [0][600]\t Training Loss -0.3530\t Accuracy 0.8900\n",
      "Epoch [35][50]\t Batch [100][600]\t Training Loss -0.3404\t Accuracy 0.8300\n",
      "Epoch [35][50]\t Batch [200][600]\t Training Loss -0.3111\t Accuracy 0.8500\n",
      "Epoch [35][50]\t Batch [300][600]\t Training Loss -0.4325\t Accuracy 0.8900\n",
      "Epoch [35][50]\t Batch [400][600]\t Training Loss -0.3555\t Accuracy 0.8600\n",
      "Epoch [35][50]\t Batch [500][600]\t Training Loss -0.3524\t Accuracy 0.8900\n",
      "\n",
      "Epoch [36][50]\t Batch [0][600]\t Training Loss -0.3429\t Accuracy 0.8800\n",
      "Epoch [36][50]\t Batch [100][600]\t Training Loss -0.3463\t Accuracy 0.9100\n",
      "Epoch [36][50]\t Batch [200][600]\t Training Loss -0.4685\t Accuracy 0.9000\n",
      "Epoch [36][50]\t Batch [300][600]\t Training Loss -0.4600\t Accuracy 0.9500\n",
      "Epoch [36][50]\t Batch [400][600]\t Training Loss -0.3702\t Accuracy 0.8800\n",
      "Epoch [36][50]\t Batch [500][600]\t Training Loss -0.3848\t Accuracy 0.8700\n",
      "\n",
      "Epoch [37][50]\t Batch [0][600]\t Training Loss -0.3548\t Accuracy 0.8500\n",
      "Epoch [37][50]\t Batch [100][600]\t Training Loss -0.3070\t Accuracy 0.8200\n",
      "Epoch [37][50]\t Batch [200][600]\t Training Loss -0.3881\t Accuracy 0.9000\n",
      "Epoch [37][50]\t Batch [300][600]\t Training Loss -0.3392\t Accuracy 0.8100\n",
      "Epoch [37][50]\t Batch [400][600]\t Training Loss -0.3703\t Accuracy 0.8700\n",
      "Epoch [37][50]\t Batch [500][600]\t Training Loss -0.3591\t Accuracy 0.8600\n"
     ]
    },
    {
     "name": "stdout",
     "output_type": "stream",
     "text": [
      "\n",
      "Epoch [38][50]\t Batch [0][600]\t Training Loss -0.3540\t Accuracy 0.8400\n",
      "Epoch [38][50]\t Batch [100][600]\t Training Loss -0.3082\t Accuracy 0.8600\n",
      "Epoch [38][50]\t Batch [200][600]\t Training Loss -0.4048\t Accuracy 0.8900\n",
      "Epoch [38][50]\t Batch [300][600]\t Training Loss -0.3722\t Accuracy 0.8800\n",
      "Epoch [38][50]\t Batch [400][600]\t Training Loss -0.4563\t Accuracy 0.9400\n",
      "Epoch [38][50]\t Batch [500][600]\t Training Loss -0.3830\t Accuracy 0.8800\n",
      "\n",
      "Epoch [39][50]\t Batch [0][600]\t Training Loss -0.4494\t Accuracy 0.9300\n",
      "Epoch [39][50]\t Batch [100][600]\t Training Loss -0.4315\t Accuracy 0.9100\n",
      "Epoch [39][50]\t Batch [200][600]\t Training Loss -0.3563\t Accuracy 0.8800\n",
      "Epoch [39][50]\t Batch [300][600]\t Training Loss -0.3885\t Accuracy 0.8500\n",
      "Epoch [39][50]\t Batch [400][600]\t Training Loss -0.4714\t Accuracy 0.9000\n",
      "Epoch [39][50]\t Batch [500][600]\t Training Loss -0.3505\t Accuracy 0.8500\n",
      "\n",
      "Epoch [40][50]\t Batch [0][600]\t Training Loss -0.3974\t Accuracy 0.8700\n",
      "Epoch [40][50]\t Batch [100][600]\t Training Loss -0.3180\t Accuracy 0.8500\n",
      "Epoch [40][50]\t Batch [200][600]\t Training Loss -0.3261\t Accuracy 0.8800\n",
      "Epoch [40][50]\t Batch [300][600]\t Training Loss -0.2999\t Accuracy 0.8600\n",
      "Epoch [40][50]\t Batch [400][600]\t Training Loss -0.3701\t Accuracy 0.8900\n",
      "Epoch [40][50]\t Batch [500][600]\t Training Loss -0.3755\t Accuracy 0.9100\n",
      "\n",
      "Epoch [41][50]\t Batch [0][600]\t Training Loss -0.3931\t Accuracy 0.8900\n",
      "Epoch [41][50]\t Batch [100][600]\t Training Loss -0.3268\t Accuracy 0.8700\n",
      "Epoch [41][50]\t Batch [200][600]\t Training Loss -0.4654\t Accuracy 0.9400\n",
      "Epoch [41][50]\t Batch [300][600]\t Training Loss -0.3341\t Accuracy 0.8400\n",
      "Epoch [41][50]\t Batch [400][600]\t Training Loss -0.3990\t Accuracy 0.8600\n",
      "Epoch [41][50]\t Batch [500][600]\t Training Loss -0.2906\t Accuracy 0.8200\n",
      "\n",
      "Epoch [42][50]\t Batch [0][600]\t Training Loss -0.3303\t Accuracy 0.8600\n",
      "Epoch [42][50]\t Batch [100][600]\t Training Loss -0.2919\t Accuracy 0.8700\n",
      "Epoch [42][50]\t Batch [200][600]\t Training Loss -0.3082\t Accuracy 0.8700\n",
      "Epoch [42][50]\t Batch [300][600]\t Training Loss -0.4209\t Accuracy 0.8700\n",
      "Epoch [42][50]\t Batch [400][600]\t Training Loss -0.3582\t Accuracy 0.8900\n",
      "Epoch [42][50]\t Batch [500][600]\t Training Loss -0.3731\t Accuracy 0.9000\n",
      "\n",
      "Epoch [43][50]\t Batch [0][600]\t Training Loss -0.3769\t Accuracy 0.8600\n",
      "Epoch [43][50]\t Batch [100][600]\t Training Loss -0.4036\t Accuracy 0.8800\n",
      "Epoch [43][50]\t Batch [200][600]\t Training Loss -0.3966\t Accuracy 0.9100\n",
      "Epoch [43][50]\t Batch [300][600]\t Training Loss -0.3976\t Accuracy 0.8500\n",
      "Epoch [43][50]\t Batch [400][600]\t Training Loss -0.3304\t Accuracy 0.8300\n",
      "Epoch [43][50]\t Batch [500][600]\t Training Loss -0.4192\t Accuracy 0.9000\n",
      "\n",
      "Epoch [44][50]\t Batch [0][600]\t Training Loss -0.3440\t Accuracy 0.8500\n",
      "Epoch [44][50]\t Batch [100][600]\t Training Loss -0.4452\t Accuracy 0.9000\n",
      "Epoch [44][50]\t Batch [200][600]\t Training Loss -0.4509\t Accuracy 0.8900\n",
      "Epoch [44][50]\t Batch [300][600]\t Training Loss -0.4181\t Accuracy 0.9000\n",
      "Epoch [44][50]\t Batch [400][600]\t Training Loss -0.3382\t Accuracy 0.8700\n",
      "Epoch [44][50]\t Batch [500][600]\t Training Loss -0.3846\t Accuracy 0.8800\n",
      "\n",
      "Epoch [45][50]\t Batch [0][600]\t Training Loss -0.3816\t Accuracy 0.8700\n",
      "Epoch [45][50]\t Batch [100][600]\t Training Loss -0.4114\t Accuracy 0.9100\n",
      "Epoch [45][50]\t Batch [200][600]\t Training Loss -0.3616\t Accuracy 0.8700\n",
      "Epoch [45][50]\t Batch [300][600]\t Training Loss -0.3696\t Accuracy 0.8800\n",
      "Epoch [45][50]\t Batch [400][600]\t Training Loss -0.4280\t Accuracy 0.9200\n",
      "Epoch [45][50]\t Batch [500][600]\t Training Loss -0.4639\t Accuracy 0.9100\n",
      "\n",
      "Epoch [46][50]\t Batch [0][600]\t Training Loss -0.4276\t Accuracy 0.9200\n",
      "Epoch [46][50]\t Batch [100][600]\t Training Loss -0.4143\t Accuracy 0.9100\n",
      "Epoch [46][50]\t Batch [200][600]\t Training Loss -0.3905\t Accuracy 0.8700\n",
      "Epoch [46][50]\t Batch [300][600]\t Training Loss -0.3294\t Accuracy 0.8800\n",
      "Epoch [46][50]\t Batch [400][600]\t Training Loss -0.3566\t Accuracy 0.8200\n",
      "Epoch [46][50]\t Batch [500][600]\t Training Loss -0.3442\t Accuracy 0.8900\n",
      "\n",
      "Epoch [47][50]\t Batch [0][600]\t Training Loss -0.3899\t Accuracy 0.9400\n",
      "Epoch [47][50]\t Batch [100][600]\t Training Loss -0.3762\t Accuracy 0.8900\n",
      "Epoch [47][50]\t Batch [200][600]\t Training Loss -0.2975\t Accuracy 0.8100\n",
      "Epoch [47][50]\t Batch [300][600]\t Training Loss -0.3181\t Accuracy 0.8600\n",
      "Epoch [47][50]\t Batch [400][600]\t Training Loss -0.3520\t Accuracy 0.8500\n",
      "Epoch [47][50]\t Batch [500][600]\t Training Loss -0.4036\t Accuracy 0.8700\n",
      "\n",
      "Epoch [48][50]\t Batch [0][600]\t Training Loss -0.3920\t Accuracy 0.8600\n",
      "Epoch [48][50]\t Batch [100][600]\t Training Loss -0.3835\t Accuracy 0.8800\n",
      "Epoch [48][50]\t Batch [200][600]\t Training Loss -0.3478\t Accuracy 0.8700\n",
      "Epoch [48][50]\t Batch [300][600]\t Training Loss -0.4722\t Accuracy 0.9400\n",
      "Epoch [48][50]\t Batch [400][600]\t Training Loss -0.4163\t Accuracy 0.8900\n",
      "Epoch [48][50]\t Batch [500][600]\t Training Loss -0.3010\t Accuracy 0.8200\n",
      "\n",
      "Epoch [49][50]\t Batch [0][600]\t Training Loss -0.3907\t Accuracy 0.8800\n",
      "Epoch [49][50]\t Batch [100][600]\t Training Loss -0.3953\t Accuracy 0.8900\n",
      "Epoch [49][50]\t Batch [200][600]\t Training Loss -0.4425\t Accuracy 0.9300\n",
      "Epoch [49][50]\t Batch [300][600]\t Training Loss -0.2891\t Accuracy 0.8600\n",
      "Epoch [49][50]\t Batch [400][600]\t Training Loss -0.3867\t Accuracy 0.8800\n",
      "Epoch [49][50]\t Batch [500][600]\t Training Loss -0.3114\t Accuracy 0.8100\n",
      "\n"
     ]
    }
   ],
   "source": [
    "# Weight Initialization\n",
    "W = np.random.randn(28*28, 10) * 0.001\n",
    "\n",
    "loss_set = []\n",
    "accu_set = []\n",
    "disp_freq = 100\n",
    "\n",
    "# Training process\n",
    "for epoch in range(0, max_epoch):\n",
    "    iter_per_batch = train_size // batch_size\n",
    "    for batch_id in range(0, iter_per_batch):\n",
    "        batch = train_set.next_batch(batch_size) # get data of next batch\n",
    "        input, label = batch\n",
    "        \n",
    "        # softmax_classifier\n",
    "        loss, gradient, prediction = softmax_classifier(W, input , label, lamda)\n",
    "        \n",
    "        # Calculate accuracy\n",
    "        label = np.argmax(label, axis=1) # scalar representation\n",
    "        accuracy = sum(prediction == label) / float(len(label))\n",
    "        \n",
    "        loss_set.append(loss)\n",
    "        accu_set.append(accuracy)\n",
    "        \n",
    "        # Update weights\n",
    "        W = W - (learning_rate * gradient)\n",
    "        if batch_id % disp_freq == 0:\n",
    "            print(\"Epoch [{}][{}]\\t Batch [{}][{}]\\t Training Loss {:.4f}\\t Accuracy {:.4f}\".format(\n",
    "                epoch, max_epoch, batch_id, iter_per_batch, \n",
    "                loss, accuracy))\n",
    "    print()"
   ]
  },
  {
   "cell_type": "markdown",
   "metadata": {},
   "source": [
    "## Test"
   ]
  },
  {
   "cell_type": "code",
   "execution_count": 7,
   "metadata": {
    "scrolled": true
   },
   "outputs": [
    {
     "name": "stdout",
     "output_type": "stream",
     "text": [
      "Test Accuracy:  0.8873\n"
     ]
    }
   ],
   "source": [
    "correct = 0\n",
    "iter_per_batch = test_size // batch_size\n",
    "\n",
    "# Test process\n",
    "for batch_id in range(0, iter_per_batch):\n",
    "    batch = test_set.next_batch(batch_size)\n",
    "    data, label = batch\n",
    "    \n",
    "    # We only need prediction results in testing\n",
    "    _,_, prediction = softmax_classifier(W, data , label, lamda)\n",
    "    label = np.argmax(label, axis=1)\n",
    "    \n",
    "    correct += sum(prediction == label)\n",
    "    \n",
    "accuracy = correct * 1.0 / test_size\n",
    "print('Test Accuracy: ', accuracy)"
   ]
  },
  {
   "cell_type": "markdown",
   "metadata": {},
   "source": [
    "## Plot"
   ]
  },
  {
   "cell_type": "code",
   "execution_count": 8,
   "metadata": {
    "scrolled": false
   },
   "outputs": [
    {
     "data": {
      "image/png": "[encoded data removed]",
      "text/plain": [
       "<Figure size 432x288 with 1 Axes>"
      ]
     },
     "metadata": {
      "needs_background": "light"
     },
     "output_type": "display_data"
    },
    {
     "data": {
      "image/png": "[encoded data removed]",
      "text/plain": [
       "<Figure size 432x288 with 1 Axes>"
      ]
     },
     "metadata": {
      "needs_background": "light"
     },
     "output_type": "display_data"
    }
   ],
   "source": [
    "# training loss curve\n",
    "plt.figure()\n",
    "plt.plot(loss_set, 'b--')\n",
    "plt.xlabel('iteration')\n",
    "plt.ylabel('loss')\n",
    "# training accuracy curve\n",
    "plt.figure()\n",
    "plt.plot(accu_set, 'r--')\n",
    "plt.xlabel('iteration')\n",
    "plt.ylabel('accuracy');"
   ]
  },
  {
   "cell_type": "markdown",
   "metadata": {},
   "source": [
    "### You have finished homework2-softmax, congratulations!"
   ]
  }
 ],
 "metadata": {
  "kernelspec": {
   "display_name": "Python 3",
   "language": "python",
   "name": "python3"
  },
  "language_info": {
   "codemirror_mode": {
    "name": "ipython",
    "version": 3
   },
   "file_extension": ".py",
   "mimetype": "text/x-python",
   "name": "python",
   "nbconvert_exporter": "python",
   "pygments_lexer": "ipython3",
   "version": "3.8.0"
  }
 },
 "nbformat": 4,
 "nbformat_minor": 2
}
