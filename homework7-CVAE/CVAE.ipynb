{
  "nbformat": 4,
  "nbformat_minor": 0,
  "metadata": {
    "colab": {
      "name": "CVAE.ipynb",
      "provenance": [],
      "collapsed_sections": []
    },
    "kernelspec": {
      "name": "python3",
      "display_name": "Python 3"
    },
    "accelerator": "GPU"
  },
  "cells": [
    {
      "cell_type": "code",
      "metadata": {
        "colab": {
          "base_uri": "https://localhost:8080/"
        },
        "id": "3706im8dUZL8",
        "outputId": "dc012d82-03a4-45e1-908b-63ad6cea1a80"
      },
      "source": [
        "%tensorflow_version 1.x"
      ],
      "execution_count": null,
      "outputs": [
        {
          "output_type": "stream",
          "text": [
            "TensorFlow 1.x selected.\n"
          ],
          "name": "stdout"
        }
      ]
    },
    {
      "cell_type": "code",
      "metadata": {
        "colab": {
          "base_uri": "https://localhost:8080/"
        },
        "id": "qjSkjf-bPJn-",
        "outputId": "52efa69b-daa5-465d-c4b6-e4ed9b3c115a"
      },
      "source": [
        "%cd /content/drive/MyDrive/Colab Notebooks\n",
        "!git clone https://github.com/thu-ml/zhusuan.git"
      ],
      "execution_count": null,
      "outputs": [
        {
          "output_type": "stream",
          "text": [
            "/content/drive/MyDrive/Colab Notebooks\n",
            "Cloning into 'zhusuan'...\n",
            "remote: Enumerating objects: 3496, done.\u001b[K\n",
            "remote: Counting objects: 100% (6/6), done.\u001b[K\n",
            "remote: Compressing objects: 100% (6/6), done.\u001b[K\n",
            "remote: Total 3496 (delta 1), reused 2 (delta 0), pack-reused 3490\n",
            "Receiving objects: 100% (3496/3496), 1.80 MiB | 4.24 MiB/s, done.\n",
            "Resolving deltas: 100% (2413/2413), done.\n",
            "Checking out files: 100% (131/131), done.\n"
          ],
          "name": "stdout"
        }
      ]
    },
    {
      "cell_type": "code",
      "metadata": {
        "colab": {
          "base_uri": "https://localhost:8080/"
        },
        "id": "j9MSd-QyTECg",
        "outputId": "32b03b24-4fb2-4295-a9a7-36aaf0ce8ff0"
      },
      "source": [
        "from __future__ import absolute_import\n",
        "from __future__ import print_function\n",
        "from __future__ import division\n",
        "\n",
        "import sys\n",
        "sys.path.append('/content/drive/MyDrive/Colab Notebooks/zhusuan')\n",
        "import zhusuan as zs\n",
        "\n",
        "import os\n",
        "import time\n",
        "import numpy as np\n",
        "import six\n",
        "from six.moves import cPickle as pickle\n",
        "import matplotlib.pyplot as plt\n",
        "import tensorflow as tf\n",
        "from tensorflow.keras.utils import to_categorical\n",
        "from keras.datasets import mnist\n",
        "\n",
        "sys.path.append('//content/drive/MyDrive/Colab Notebooks/zhusuan/examples')\n",
        "import conf\n",
        "from utils import save_image_collections"
      ],
      "execution_count": null,
      "outputs": [
        {
          "output_type": "stream",
          "text": [
            "Using TensorFlow backend.\n"
          ],
          "name": "stderr"
        }
      ]
    },
    {
      "cell_type": "code",
      "metadata": {
        "colab": {
          "base_uri": "https://localhost:8080/"
        },
        "id": "uULbXUGkVQgY",
        "outputId": "59afa0af-2a68-442d-d3f6-62c6f22091f3"
      },
      "source": [
        "@zs.meta_bayesian_net(scope=\"gen\", reuse_variables=True)\n",
        "def build_gen(y, x_dim, z_dim, y_dim, n):\n",
        "    bn = zs.BayesianNet()\n",
        "    z_mean = tf.zeros([n, z_dim])\n",
        "    z = bn.normal(\"z\", z_mean, std=1., group_ndims=1)\n",
        "    \n",
        "    # Concatenate z and y\n",
        "    z = tf.concat(axis=1, values=[z,y])\n",
        "\n",
        "    # x_logits = f_NN(z)\n",
        "    h = tf.layers.dense(z, 500, activation=tf.nn.relu)\n",
        "    h = tf.layers.dense(h, 500, activation=tf.nn.relu)\n",
        "    x_logits = tf.layers.dense(h, x_dim)\n",
        "    bn.deterministic(\"x_mean\", tf.sigmoid(x_logits))\n",
        "\n",
        "    # add observation distribution (noise)\n",
        "    bn.bernoulli(\"x\", x_logits, group_ndims=1, dtype=tf.float32)\n",
        "    return bn\n",
        "\n",
        "@zs.reuse_variables(scope=\"q_net\")\n",
        "def build_q_net(x, y, z_dim, y_dim):\n",
        "    bn = zs.BayesianNet()\n",
        "    # concatenate x and y\n",
        "    x = tf.concat(axis=1, values=[x,y])\n",
        "    h = tf.layers.dense(x, 500, activation=tf.nn.relu)\n",
        "    h = tf.layers.dense(h, 500, activation=tf.nn.relu)\n",
        "    z_mean = tf.layers.dense(h, z_dim)\n",
        "    z_logstd = tf.layers.dense(h, z_dim)\n",
        "    bn.normal(\"z\", z_mean, logstd=z_logstd, group_ndims=1)\n",
        "    return bn"
      ],
      "execution_count": null,
      "outputs": [
        {
          "output_type": "stream",
          "text": [
            "WARNING:tensorflow:From /content/drive/MyDrive/Colab Notebooks/zhusuan/zhusuan/framework/utils.py:106: The name tf.make_template is deprecated. Please use tf.compat.v1.make_template instead.\n",
            "\n"
          ],
          "name": "stdout"
        }
      ]
    },
    {
      "cell_type": "code",
      "metadata": {
        "colab": {
          "base_uri": "https://localhost:8080/"
        },
        "id": "cXuPUruYV_IZ",
        "outputId": "124e0bdb-bb80-49de-a5f4-18590e5c3258"
      },
      "source": [
        "# load train and test data using Keras API.\n",
        "(x_train, y_train_temp), (x_test, y_test_temp) = mnist.load_data()\n",
        "x_train = x_train.reshape(x_train.shape[0],784)/255\n",
        "x_test = x_test.reshape(x_test.shape[0],784)/255\n",
        "\n",
        "# draw samples from binomial distribution\n",
        "x_train = np.random.binomial(1, x_train, size=x_train.shape).astype(np.float32)\n",
        "x_test = np.random.binomial(1, x_test, size=x_test.shape).astype(np.float32)\n",
        "x_dim = x_train.shape[1]    \n",
        "\n",
        "# Convert label into one-hot vector\n",
        "y_train = to_categorical(np.array(y_train_temp))\n",
        "y_test = to_categorical(np.array(y_test_temp))\n",
        "y_dim = y_train.shape[1]\n",
        "\n",
        "# class vector\n",
        "input_data = to_categorical(np.arange(10))\n",
        "\n",
        "# Define model parameters\n",
        "z_dim = 10\n",
        "\n",
        "# Build the computation graph\n",
        "x = tf.placeholder(tf.float32, shape=[None, x_dim], name=\"x\")\n",
        "y = tf.placeholder(tf.float32, shape=[None, y_dim], name=\"y\")\n",
        "n = tf.placeholder(tf.int32, shape=[], name=\"n\")\n",
        "\n",
        "model = build_gen(y, x_dim, z_dim, y_dim, n)\n",
        "variational = build_q_net(x, y, z_dim, y_dim)\n",
        "\n",
        "lower_bound = zs.variational.elbo(model, {\"x\": x}, variational=variational)\n",
        "cost = tf.reduce_mean(lower_bound.sgvb())\n",
        "lower_bound = tf.reduce_mean(lower_bound)\n",
        "\n",
        "optimizer = tf.train.AdamOptimizer(learning_rate=0.001)\n",
        "infer_op = optimizer.minimize(cost)\n",
        "\n",
        "# Random generation\n",
        "x_gen = tf.reshape(model.observe()[\"x_mean\"], [-1, 28, 28, 1])"
      ],
      "execution_count": null,
      "outputs": [
        {
          "output_type": "stream",
          "text": [
            "Downloading data from https://s3.amazonaws.com/img-datasets/mnist.npz\n",
            "11493376/11490434 [==============================] - 1s 0us/step\n",
            "WARNING:tensorflow:From <ipython-input-4-6d925cf7782a>:25: dense (from tensorflow.python.layers.core) is deprecated and will be removed in a future version.\n",
            "Instructions for updating:\n",
            "Use keras.layers.Dense instead.\n",
            "WARNING:tensorflow:From /tensorflow-1.15.2/python3.7/tensorflow_core/python/layers/core.py:187: Layer.apply (from tensorflow.python.keras.engine.base_layer) is deprecated and will be removed in a future version.\n",
            "Instructions for updating:\n",
            "Please use `layer.__call__` method instead.\n",
            "WARNING:tensorflow:From /content/drive/MyDrive/Colab Notebooks/zhusuan/zhusuan/distributions/univariate.py:167: The name tf.random_normal is deprecated. Please use tf.random.normal instead.\n",
            "\n",
            "WARNING:tensorflow:From /content/drive/MyDrive/Colab Notebooks/zhusuan/zhusuan/distributions/univariate.py:100: The name tf.log is deprecated. Please use tf.math.log instead.\n",
            "\n",
            "WARNING:tensorflow:From /tensorflow-1.15.2/python3.7/tensorflow_core/python/ops/nn_impl.py:183: where (from tensorflow.python.ops.array_ops) is deprecated and will be removed in a future version.\n",
            "Instructions for updating:\n",
            "Use tf.where in 2.0, which has the same broadcast rule as np.where\n"
          ],
          "name": "stdout"
        }
      ]
    },
    {
      "cell_type": "code",
      "metadata": {
        "colab": {
          "base_uri": "https://localhost:8080/",
          "height": 312
        },
        "id": "0xuG5oY5WEHW",
        "outputId": "03664822-78b7-41d2-d8b6-bfe9285cb309"
      },
      "source": [
        "start = time.process_time()\n",
        "epochs = 100\n",
        "batch_size = 32\n",
        "iters = x_train.shape[0] // batch_size\n",
        "\n",
        "lb_list = []\n",
        "# Run the Inference\n",
        "with tf.Session() as sess:\n",
        "    sess.run(tf.global_variables_initializer())\n",
        "\n",
        "    for epoch in range(epochs):\n",
        "        time_epoch = -time.time()\n",
        "        lbs = []\n",
        "        for t in range(iters):\n",
        "            x_batch = x_train[t * batch_size:(t + 1) * batch_size]\n",
        "            y_batch = y_train[t * batch_size:(t + 1) * batch_size]\n",
        "            _, lb = sess.run([infer_op, lower_bound],\n",
        "                              feed_dict={x: x_batch,\n",
        "                                        y: y_batch,\n",
        "                                        n: batch_size})\n",
        "            lbs.append(lb)\n",
        "        time_epoch += time.time()\n",
        "        mean_lb = np.mean(lbs)\n",
        "        # print(\"Epoch {} ({:.1f}s): Lower bound = {}\".format(epoch+1, time_epoch, mean_lb))\n",
        "        lb_list.append(mean_lb)\n",
        "        \n",
        "        img = sess.run(x_gen, feed_dict={y: input_data, n: 10})\n",
        "        name = os.path.join(\"/content/drive/MyDrive/Colab Notebooks/output_img\", \"epoch_{}.png\".format(epoch+1))\n",
        "        save_image_collections(img, name, shape=(1, 10))\n",
        "\n",
        "print('Time taken for 100 epoch: {}'.format(time.process_time() - start))\n",
        "plt.plot(lb_list)\n",
        "plt.title('Lower bound against epoch')\n",
        "plt.xlabel('Epoch')\n",
        "plt.ylabel('Lower Bound')\n",
        "plt.savefig(os.path.join(\"/content/drive/MyDrive/Colab Notebooks/output_img\", \"lower_bound.png\"))"
      ],
      "execution_count": null,
      "outputs": [
        {
          "output_type": "stream",
          "text": [
            "Time taken for 100 epoch: 665.700172181\n"
          ],
          "name": "stdout"
        },
        {
          "output_type": "display_data",
          "data": {
            "image/png": "[encoded data removed]",
            "text/plain": [
              "<Figure size 432x288 with 1 Axes>"
            ]
          },
          "metadata": {
            "tags": [],
            "needs_background": "light"
          }
        }
      ]
    },
    {
      "cell_type": "code",
      "metadata": {
        "id": "I0Ar61xePYdI"
      },
      "source": [
        ""
      ],
      "execution_count": null,
      "outputs": []
    }
  ]
}